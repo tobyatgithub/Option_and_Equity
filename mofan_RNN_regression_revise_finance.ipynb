{
 "cells": [
  {
   "cell_type": "markdown",
   "metadata": {},
   "source": [
    "## Task and Goal:\n",
    "In this notebook, we want to revise and modify the rnn **regression** notebook we learned from mofan's video.  \n",
    "The **goal** is to grab a better understanding of RNN as a prediction model.  \n",
    "The **task** is then:  \n",
    "1. modify the format of input to simulate our financial data\n",
    "2. change the layer dimensions accordingly to fit the model (challenging part.)"
   ]
  },
  {
   "cell_type": "markdown",
   "metadata": {},
   "source": [
    "### 1. Toy model test\n",
    "Here, we generate some fake data to test the model."
   ]
  },
  {
   "cell_type": "code",
   "execution_count": 1,
   "metadata": {},
   "outputs": [],
   "source": [
    "import torch\n",
    "from torch import nn\n",
    "import torchvision.datasets as datasets\n",
    "import torchvision.transforms as transforms\n",
    "import matplotlib.pyplot as plt\n",
    "import numpy as np\n",
    "import pandas as pd"
   ]
  },
  {
   "cell_type": "code",
   "execution_count": null,
   "metadata": {},
   "outputs": [],
   "source": []
  },
  {
   "cell_type": "code",
   "execution_count": 2,
   "metadata": {},
   "outputs": [
    {
     "name": "stdout",
     "output_type": "stream",
     "text": [
      "torch.Size([1, 100, 12])\n"
     ]
    }
   ],
   "source": [
    "data = torch.randn(1, 100, 12)\n",
    "print(data.size())"
   ]
  },
  {
   "cell_type": "code",
   "execution_count": 27,
   "metadata": {},
   "outputs": [
    {
     "data": {
      "text/plain": [
       "tensor([[[ 0.0138, -0.4167,  1.4651,  0.4104, -0.4140, -1.0407, -0.4664,\n",
       "          -0.3975, -0.8543,  1.1309, -0.7778, -1.6786],\n",
       "         [ 0.9704,  0.1135,  0.6346,  0.3732, -0.4819,  0.8748,  0.1210,\n",
       "           1.1366, -0.3635,  1.0505,  0.8145, -0.2515]]])"
      ]
     },
     "execution_count": 27,
     "metadata": {},
     "output_type": "execute_result"
    }
   ],
   "source": [
    "data[:,:2,:]"
   ]
  },
  {
   "cell_type": "code",
   "execution_count": 29,
   "metadata": {},
   "outputs": [
    {
     "name": "stdout",
     "output_type": "stream",
     "text": [
      "torch.Size([100, 12])\n"
     ]
    },
    {
     "data": {
      "text/plain": [
       "tensor([[ 0.0138, -0.4167,  1.4651,  ...,  1.1309, -0.7778, -1.6786],\n",
       "        [ 0.9704,  0.1135,  0.6346,  ...,  1.0505,  0.8145, -0.2515],\n",
       "        [-2.7264,  0.9686, -1.0000,  ...,  2.0921,  1.2037, -0.3476],\n",
       "        ...,\n",
       "        [-0.8164, -0.0762,  1.3119,  ..., -0.6137, -0.1876,  1.9818],\n",
       "        [-0.9342,  0.9342,  0.9005,  ...,  0.6509,  0.2531,  0.8515],\n",
       "        [-0.2573,  0.0044,  1.6089,  ..., -1.5131,  2.4126,  0.8745]])"
      ]
     },
     "execution_count": 29,
     "metadata": {},
     "output_type": "execute_result"
    }
   ],
   "source": [
    "print(data[0].size())\n",
    "data[0]"
   ]
  },
  {
   "cell_type": "code",
   "execution_count": null,
   "metadata": {},
   "outputs": [],
   "source": []
  },
  {
   "cell_type": "code",
   "execution_count": 4,
   "metadata": {},
   "outputs": [],
   "source": [
    "EPOCH = 1\n",
    "BATCH_SIZE = 1\n",
    "TIME_STEP = 10\n",
    "INPUT_SIZE = 12\n",
    "LR = 0.01"
   ]
  },
  {
   "cell_type": "code",
   "execution_count": 5,
   "metadata": {},
   "outputs": [
    {
     "name": "stdout",
     "output_type": "stream",
     "text": [
      "RNN(\n",
      "  (rnn): RNN(12, 30, batch_first=True)\n",
      "  (out): Linear(in_features=30, out_features=12, bias=True)\n",
      ")\n"
     ]
    }
   ],
   "source": [
    "class RNN(nn.Module):\n",
    "    def __init__(self):\n",
    "        super(RNN, self).__init__()\n",
    "        \n",
    "        self.rnn = nn.RNN(\n",
    "            input_size = INPUT_SIZE,\n",
    "            hidden_size = 30,\n",
    "            num_layers = 1,\n",
    "            batch_first = True\n",
    "        )\n",
    "        self.out = nn.Linear(30, 12) # is the first number here = hidden_size? and second = 1 for regression?\n",
    "        \n",
    "    def forward(self, x, h_state):\n",
    "        r_out, h_state = self.rnn(x, h_state)\n",
    "#         outs = []\n",
    "#         for time_step in range(r_out.size(1)): #???...hum..why not range(time_step?)\n",
    "#             outs.append(self.out(r_out[:, time_step, :]))\n",
    "#         return torch.stack(outs, dim=1), h_state\n",
    "        r_out = r_out.view(-1,30)\n",
    "        outs = self.out(r_out)\n",
    "        return outs, h_state\n",
    "    \n",
    "rnn = RNN()\n",
    "print(rnn)\n",
    "\n",
    "optimizer = torch.optim.Adam(rnn.parameters(), lr = LR)\n",
    "loss_func = nn.MSELoss()\n",
    "\n",
    "h_state = None\n",
    "    "
   ]
  },
  {
   "cell_type": "code",
   "execution_count": 6,
   "metadata": {},
   "outputs": [
    {
     "name": "stdout",
     "output_type": "stream",
     "text": [
      "1\n",
      "Step:  1 | train loss: 1.4086\n",
      "2\n",
      "Step:  2 | train loss: 0.8989\n",
      "3\n",
      "Step:  3 | train loss: 1.3688\n",
      "4\n",
      "Step:  4 | train loss: 0.9468\n",
      "5\n",
      "Step:  5 | train loss: 0.9278\n",
      "6\n",
      "Step:  6 | train loss: 1.1741\n",
      "7\n",
      "Step:  7 | train loss: 1.5252\n",
      "8\n",
      "Step:  8 | train loss: 1.4569\n",
      "9\n",
      "Step:  9 | train loss: 0.9410\n",
      "10\n",
      "Step:  10 | train loss: 0.9517\n",
      "11\n",
      "Step:  11 | train loss: 1.1464\n",
      "12\n",
      "Step:  12 | train loss: 2.0098\n",
      "13\n",
      "Step:  13 | train loss: 2.0307\n",
      "14\n",
      "Step:  14 | train loss: 0.7553\n",
      "15\n",
      "Step:  15 | train loss: 1.2335\n",
      "16\n",
      "Step:  16 | train loss: 0.9237\n",
      "17\n",
      "Step:  17 | train loss: 0.9132\n",
      "18\n",
      "Step:  18 | train loss: 2.2163\n",
      "19\n",
      "Step:  19 | train loss: 0.7320\n",
      "20\n",
      "Step:  20 | train loss: 1.6227\n",
      "21\n",
      "Step:  21 | train loss: 1.4013\n",
      "22\n",
      "Step:  22 | train loss: 0.8143\n",
      "23\n",
      "Step:  23 | train loss: 1.0847\n",
      "24\n",
      "Step:  24 | train loss: 1.0021\n",
      "25\n",
      "Step:  25 | train loss: 0.7223\n",
      "26\n",
      "Step:  26 | train loss: 0.9300\n",
      "27\n",
      "Step:  27 | train loss: 0.5650\n",
      "28\n",
      "Step:  28 | train loss: 1.4096\n",
      "29\n",
      "Step:  29 | train loss: 0.5424\n",
      "30\n",
      "Step:  30 | train loss: 0.7389\n",
      "31\n",
      "Step:  31 | train loss: 0.6562\n",
      "32\n",
      "Step:  32 | train loss: 0.9375\n",
      "33\n",
      "Step:  33 | train loss: 0.8835\n",
      "34\n",
      "Step:  34 | train loss: 0.7432\n",
      "35\n",
      "Step:  35 | train loss: 1.0775\n",
      "36\n",
      "Step:  36 | train loss: 1.5435\n",
      "37\n",
      "Step:  37 | train loss: 0.9551\n",
      "38\n",
      "Step:  38 | train loss: 0.5914\n",
      "39\n",
      "Step:  39 | train loss: 1.0283\n",
      "40\n",
      "Step:  40 | train loss: 1.5437\n",
      "41\n",
      "Step:  41 | train loss: 0.4727\n",
      "42\n",
      "Step:  42 | train loss: 1.3844\n",
      "43\n",
      "Step:  43 | train loss: 1.1181\n",
      "44\n",
      "Step:  44 | train loss: 1.3731\n",
      "45\n",
      "Step:  45 | train loss: 1.3819\n",
      "46\n",
      "Step:  46 | train loss: 1.1728\n",
      "47\n",
      "Step:  47 | train loss: 1.1783\n",
      "48\n",
      "Step:  48 | train loss: 0.9940\n",
      "49\n",
      "Step:  49 | train loss: 1.1809\n",
      "50\n",
      "Step:  50 | train loss: 1.2731\n",
      "51\n",
      "Step:  51 | train loss: 1.4325\n",
      "52\n",
      "Step:  52 | train loss: 0.4278\n",
      "53\n",
      "Step:  53 | train loss: 0.8791\n",
      "54\n",
      "Step:  54 | train loss: 0.9990\n",
      "55\n",
      "Step:  55 | train loss: 0.5940\n",
      "56\n",
      "Step:  56 | train loss: 1.0195\n",
      "57\n",
      "Step:  57 | train loss: 1.4708\n",
      "58\n",
      "Step:  58 | train loss: 0.8168\n",
      "59\n",
      "Step:  59 | train loss: 0.5738\n",
      "60\n",
      "Step:  60 | train loss: 1.9559\n",
      "61\n",
      "Step:  61 | train loss: 0.7534\n",
      "62\n",
      "Step:  62 | train loss: 0.9255\n",
      "63\n",
      "Step:  63 | train loss: 2.5706\n",
      "64\n",
      "Step:  64 | train loss: 1.2007\n",
      "65\n",
      "Step:  65 | train loss: 1.1234\n",
      "66\n",
      "Step:  66 | train loss: 1.3974\n",
      "67\n",
      "Step:  67 | train loss: 0.7469\n",
      "68\n",
      "Step:  68 | train loss: 0.5082\n",
      "69\n",
      "Step:  69 | train loss: 1.6849\n",
      "70\n",
      "Step:  70 | train loss: 0.8095\n",
      "71\n",
      "Step:  71 | train loss: 0.8399\n",
      "72\n",
      "Step:  72 | train loss: 1.0720\n",
      "73\n",
      "Step:  73 | train loss: 1.0422\n",
      "74\n",
      "Step:  74 | train loss: 1.2977\n",
      "75\n",
      "Step:  75 | train loss: 1.3562\n",
      "76\n",
      "Step:  76 | train loss: 0.7037\n",
      "77\n",
      "Step:  77 | train loss: 0.9878\n",
      "78\n",
      "Step:  78 | train loss: 0.6037\n",
      "79\n",
      "Step:  79 | train loss: 1.3781\n",
      "80\n",
      "Step:  80 | train loss: 0.7574\n",
      "81\n",
      "Step:  81 | train loss: 1.2704\n",
      "82\n",
      "Step:  82 | train loss: 1.0315\n",
      "83\n",
      "Step:  83 | train loss: 1.1290\n",
      "84\n",
      "Step:  84 | train loss: 0.6333\n",
      "85\n",
      "Step:  85 | train loss: 0.5665\n",
      "86\n",
      "Step:  86 | train loss: 1.3170\n",
      "87\n",
      "Step:  87 | train loss: 0.4944\n",
      "88\n",
      "Step:  88 | train loss: 1.1843\n",
      "89\n",
      "Step:  89 | train loss: 1.1769\n",
      "90\n",
      "Step:  90 | train loss: 1.8618\n",
      "91\n",
      "Step:  91 | train loss: 0.7328\n",
      "92\n",
      "Step:  92 | train loss: 0.4967\n",
      "93\n",
      "Step:  93 | train loss: 1.1784\n",
      "94\n",
      "Step:  94 | train loss: 1.2036\n",
      "95\n",
      "Step:  95 | train loss: 1.1693\n",
      "96\n",
      "Step:  96 | train loss: 0.7857\n",
      "97\n",
      "Step:  97 | train loss: 0.9306\n",
      "98\n",
      "Step:  98 | train loss: 0.5735\n"
     ]
    }
   ],
   "source": [
    "torch.manual_seed(1)\n",
    "\n",
    "\n",
    "for i in range(1, data.size(1)//BATCH_SIZE-1):\n",
    "# for i in range(1, 200):    \n",
    "    print(i)\n",
    "    x = data[:,((i-1)*BATCH_SIZE):(i * BATCH_SIZE),:]\n",
    "    y = data[:,(i * BATCH_SIZE+1),:]\n",
    "    \n",
    "    prediction, h_state = rnn(x, h_state)\n",
    "    h_state = h_state.data\n",
    "    \n",
    "    loss = loss_func(prediction, y)\n",
    "    optimizer.zero_grad()                   # clear gradients for this training step\n",
    "    loss.backward()                         # backpropagation, compute gradients\n",
    "    optimizer.step() \n",
    "#     if step %1 == 0:\n",
    "    print('Step: ', i, '| train loss: %.4f' % loss.data.numpy())    "
   ]
  },
  {
   "cell_type": "code",
   "execution_count": 7,
   "metadata": {},
   "outputs": [
    {
     "name": "stdout",
     "output_type": "stream",
     "text": [
      "tensor([[ 0.1470,  0.3870, -0.1489,  0.2920,  0.2054, -0.1866, -0.1912,  0.4354,\n",
      "         -0.0209, -0.7571, -0.0532, -0.1190]], grad_fn=<ThAddmmBackward>)\n",
      "tensor([[ 0.2689, -0.4908, -0.2760,  0.7299, -0.9108,  0.4038, -0.5539, -0.4288,\n",
      "          1.2873,  0.2868,  0.3210,  0.5704]])\n"
     ]
    }
   ],
   "source": [
    "print(prediction)\n",
    "print(y)"
   ]
  },
  {
   "cell_type": "code",
   "execution_count": 8,
   "metadata": {},
   "outputs": [],
   "source": [
    "# plt.figure(1, figsize=(12, 5))\n",
    "# plt.ion()           # continuously plot\n",
    "\n",
    "# for step in range(100):\n",
    "#     start, end = step * np.pi, (step+1)*np.pi   # time range\n",
    "#     # use sin predicts cos\n",
    "#     steps = np.linspace(start, end, TIME_STEP, dtype=np.float32)\n",
    "#     x_np = np.sin(steps)    # float32 for converting torch FloatTensor\n",
    "#     y_np = np.cos(steps)\n",
    "\n",
    "#     x = torch.from_numpy(x_np[np.newaxis, :, np.newaxis])    # shape (batch, time_step, input_size)\n",
    "#     y = torch.from_numpy(y_np[np.newaxis, :, np.newaxis])\n",
    "\n",
    "#     prediction, h_state = rnn(x, h_state)   # rnn output\n",
    "#     # !! next step is important !!\n",
    "#     h_state = h_state.data        # repack the hidden state, break the connection from last iteration\n",
    "\n",
    "#     loss = loss_func(prediction, y)         # calculate loss\n",
    "#     optimizer.zero_grad()                   # clear gradients for this training step\n",
    "#     loss.backward()                         # backpropagation, compute gradients\n",
    "#     optimizer.step()                        # apply gradients\n",
    "\n",
    "#     # plotting\n",
    "# #     plt.plot(steps, y_np.flatten(), 'r-')\n",
    "# #     plt.plot(steps, prediction.data.numpy().flatten(), 'b-')\n",
    "# #     plt.draw(); plt.pause(0.05)\n",
    "#     if step %20 == 0:\n",
    "#         print('Step: ', step, '| train loss: %.4f' % loss.data.numpy())\n",
    "# # plt.ioff()\n",
    "# # plt.show()"
   ]
  },
  {
   "cell_type": "code",
   "execution_count": 9,
   "metadata": {},
   "outputs": [
    {
     "data": {
      "text/plain": [
       "tensor([[[ 0.1470,  0.3870, -0.1489,  0.2920,  0.2054, -0.1866, -0.1912,\n",
       "           0.4354, -0.0209, -0.7571, -0.0532, -0.1190]]],\n",
       "       grad_fn=<UnsqueezeBackward0>)"
      ]
     },
     "execution_count": 9,
     "metadata": {},
     "output_type": "execute_result"
    }
   ],
   "source": [
    "prediction.unsqueeze(0)"
   ]
  },
  {
   "cell_type": "markdown",
   "metadata": {},
   "source": [
    "###  2. Using SPY500 data from 2017"
   ]
  },
  {
   "cell_type": "code",
   "execution_count": 3,
   "metadata": {},
   "outputs": [],
   "source": [
    "import pandas as pd"
   ]
  },
  {
   "cell_type": "code",
   "execution_count": null,
   "metadata": {},
   "outputs": [],
   "source": []
  },
  {
   "cell_type": "code",
   "execution_count": 12,
   "metadata": {},
   "outputs": [
    {
     "name": "stdout",
     "output_type": "stream",
     "text": [
      "(4721, 7)\n"
     ]
    },
    {
     "data": {
      "text/html": [
       "<div>\n",
       "<style scoped>\n",
       "    .dataframe tbody tr th:only-of-type {\n",
       "        vertical-align: middle;\n",
       "    }\n",
       "\n",
       "    .dataframe tbody tr th {\n",
       "        vertical-align: top;\n",
       "    }\n",
       "\n",
       "    .dataframe thead th {\n",
       "        text-align: right;\n",
       "    }\n",
       "</style>\n",
       "<table border=\"1\" class=\"dataframe\">\n",
       "  <thead>\n",
       "    <tr style=\"text-align: right;\">\n",
       "      <th></th>\n",
       "      <th>Date</th>\n",
       "      <th>Open</th>\n",
       "      <th>High</th>\n",
       "      <th>Low</th>\n",
       "      <th>Close</th>\n",
       "      <th>Adj Close</th>\n",
       "      <th>Volume</th>\n",
       "    </tr>\n",
       "  </thead>\n",
       "  <tbody>\n",
       "    <tr>\n",
       "      <th>0</th>\n",
       "      <td>2000-01-03</td>\n",
       "      <td>1469.250000</td>\n",
       "      <td>1478.000000</td>\n",
       "      <td>1438.359985</td>\n",
       "      <td>1455.219971</td>\n",
       "      <td>1455.219971</td>\n",
       "      <td>931800000</td>\n",
       "    </tr>\n",
       "    <tr>\n",
       "      <th>1</th>\n",
       "      <td>2000-01-04</td>\n",
       "      <td>1455.219971</td>\n",
       "      <td>1455.219971</td>\n",
       "      <td>1397.430054</td>\n",
       "      <td>1399.420044</td>\n",
       "      <td>1399.420044</td>\n",
       "      <td>1009000000</td>\n",
       "    </tr>\n",
       "    <tr>\n",
       "      <th>2</th>\n",
       "      <td>2000-01-05</td>\n",
       "      <td>1399.420044</td>\n",
       "      <td>1413.270020</td>\n",
       "      <td>1377.680054</td>\n",
       "      <td>1402.109985</td>\n",
       "      <td>1402.109985</td>\n",
       "      <td>1085500000</td>\n",
       "    </tr>\n",
       "    <tr>\n",
       "      <th>3</th>\n",
       "      <td>2000-01-06</td>\n",
       "      <td>1402.109985</td>\n",
       "      <td>1411.900024</td>\n",
       "      <td>1392.099976</td>\n",
       "      <td>1403.449951</td>\n",
       "      <td>1403.449951</td>\n",
       "      <td>1092300000</td>\n",
       "    </tr>\n",
       "    <tr>\n",
       "      <th>4</th>\n",
       "      <td>2000-01-07</td>\n",
       "      <td>1403.449951</td>\n",
       "      <td>1441.469971</td>\n",
       "      <td>1400.729980</td>\n",
       "      <td>1441.469971</td>\n",
       "      <td>1441.469971</td>\n",
       "      <td>1225200000</td>\n",
       "    </tr>\n",
       "  </tbody>\n",
       "</table>\n",
       "</div>"
      ],
      "text/plain": [
       "         Date         Open         High          Low        Close  \\\n",
       "0  2000-01-03  1469.250000  1478.000000  1438.359985  1455.219971   \n",
       "1  2000-01-04  1455.219971  1455.219971  1397.430054  1399.420044   \n",
       "2  2000-01-05  1399.420044  1413.270020  1377.680054  1402.109985   \n",
       "3  2000-01-06  1402.109985  1411.900024  1392.099976  1403.449951   \n",
       "4  2000-01-07  1403.449951  1441.469971  1400.729980  1441.469971   \n",
       "\n",
       "     Adj Close      Volume  \n",
       "0  1455.219971   931800000  \n",
       "1  1399.420044  1009000000  \n",
       "2  1402.109985  1085500000  \n",
       "3  1403.449951  1092300000  \n",
       "4  1441.469971  1225200000  "
      ]
     },
     "execution_count": 12,
     "metadata": {},
     "output_type": "execute_result"
    }
   ],
   "source": [
    "data = pd.read_csv(\"/Users/toby/Documents/PycharmProjects/Pi3Orion/SP500_01012000_10072018.csv\")\n",
    "print(data.shape)\n",
    "data.head()"
   ]
  },
  {
   "cell_type": "code",
   "execution_count": 13,
   "metadata": {},
   "outputs": [
    {
     "name": "stdout",
     "output_type": "stream",
     "text": [
      "<class 'pandas.core.frame.DataFrame'>\n",
      "RangeIndex: 4721 entries, 0 to 4720\n",
      "Data columns (total 6 columns):\n",
      "Date      4721 non-null object\n",
      "Open      4721 non-null float64\n",
      "High      4721 non-null float64\n",
      "Low       4721 non-null float64\n",
      "Close     4721 non-null float64\n",
      "Volume    4721 non-null int64\n",
      "dtypes: float64(4), int64(1), object(1)\n",
      "memory usage: 221.4+ KB\n"
     ]
    }
   ],
   "source": [
    "data = data.drop(\"Adj Close\",1)\n",
    "data.Volume = data.Volume // 10000000\n",
    "data.info()"
   ]
  },
  {
   "cell_type": "code",
   "execution_count": 14,
   "metadata": {},
   "outputs": [
    {
     "data": {
      "text/html": [
       "<div>\n",
       "<style scoped>\n",
       "    .dataframe tbody tr th:only-of-type {\n",
       "        vertical-align: middle;\n",
       "    }\n",
       "\n",
       "    .dataframe tbody tr th {\n",
       "        vertical-align: top;\n",
       "    }\n",
       "\n",
       "    .dataframe thead th {\n",
       "        text-align: right;\n",
       "    }\n",
       "</style>\n",
       "<table border=\"1\" class=\"dataframe\">\n",
       "  <thead>\n",
       "    <tr style=\"text-align: right;\">\n",
       "      <th></th>\n",
       "      <th>Open</th>\n",
       "      <th>High</th>\n",
       "      <th>Low</th>\n",
       "      <th>Close</th>\n",
       "      <th>Volume</th>\n",
       "    </tr>\n",
       "  </thead>\n",
       "  <tbody>\n",
       "    <tr>\n",
       "      <th>0</th>\n",
       "      <td>1469.250000</td>\n",
       "      <td>1478.000000</td>\n",
       "      <td>1438.359985</td>\n",
       "      <td>1455.219971</td>\n",
       "      <td>93</td>\n",
       "    </tr>\n",
       "    <tr>\n",
       "      <th>1</th>\n",
       "      <td>1455.219971</td>\n",
       "      <td>1455.219971</td>\n",
       "      <td>1397.430054</td>\n",
       "      <td>1399.420044</td>\n",
       "      <td>100</td>\n",
       "    </tr>\n",
       "    <tr>\n",
       "      <th>2</th>\n",
       "      <td>1399.420044</td>\n",
       "      <td>1413.270020</td>\n",
       "      <td>1377.680054</td>\n",
       "      <td>1402.109985</td>\n",
       "      <td>108</td>\n",
       "    </tr>\n",
       "    <tr>\n",
       "      <th>3</th>\n",
       "      <td>1402.109985</td>\n",
       "      <td>1411.900024</td>\n",
       "      <td>1392.099976</td>\n",
       "      <td>1403.449951</td>\n",
       "      <td>109</td>\n",
       "    </tr>\n",
       "    <tr>\n",
       "      <th>4</th>\n",
       "      <td>1403.449951</td>\n",
       "      <td>1441.469971</td>\n",
       "      <td>1400.729980</td>\n",
       "      <td>1441.469971</td>\n",
       "      <td>122</td>\n",
       "    </tr>\n",
       "  </tbody>\n",
       "</table>\n",
       "</div>"
      ],
      "text/plain": [
       "          Open         High          Low        Close  Volume\n",
       "0  1469.250000  1478.000000  1438.359985  1455.219971      93\n",
       "1  1455.219971  1455.219971  1397.430054  1399.420044     100\n",
       "2  1399.420044  1413.270020  1377.680054  1402.109985     108\n",
       "3  1402.109985  1411.900024  1392.099976  1403.449951     109\n",
       "4  1403.449951  1441.469971  1400.729980  1441.469971     122"
      ]
     },
     "execution_count": 14,
     "metadata": {},
     "output_type": "execute_result"
    }
   ],
   "source": [
    "# version 1, without any feature engineering\n",
    "spy_df = data.drop(\"Date\",1)\n",
    "spy_df.head()"
   ]
  },
  {
   "cell_type": "code",
   "execution_count": 15,
   "metadata": {},
   "outputs": [
    {
     "name": "stdout",
     "output_type": "stream",
     "text": [
      "torch.Size([4721, 1, 5])\n",
      "torch.Size([1, 4721, 5])\n"
     ]
    }
   ],
   "source": [
    "spy_df = torch.tensor(spy_df.values).unsqueeze(dim = 1).float()\n",
    "print(spy_df.size())\n",
    "spy_df = spy_df.view([1,-1,5])\n",
    "print(spy_df.size())"
   ]
  },
  {
   "cell_type": "code",
   "execution_count": 16,
   "metadata": {
    "scrolled": true
   },
   "outputs": [
    {
     "name": "stdout",
     "output_type": "stream",
     "text": [
      "torch.Size([4721, 5])\n"
     ]
    },
    {
     "data": {
      "text/plain": [
       "tensor([[1469.2500, 1478.0000, 1438.3600, 1455.2200,   93.0000],\n",
       "        [1455.2200, 1455.2200, 1397.4301, 1399.4200,  100.0000],\n",
       "        [1399.4200, 1413.2700, 1377.6801, 1402.1100,  108.0000],\n",
       "        ...,\n",
       "        [2931.6899, 2939.8601, 2921.3601, 2925.5100,  359.0000],\n",
       "        [2919.3501, 2919.7800, 2883.9199, 2901.6101,  349.0000],\n",
       "        [2902.5400, 2909.6399, 2869.2900, 2885.5701,  332.0000]])"
      ]
     },
     "execution_count": 16,
     "metadata": {},
     "output_type": "execute_result"
    }
   ],
   "source": [
    "print(spy_df[0].size())\n",
    "spy_df[0]"
   ]
  },
  {
   "cell_type": "code",
   "execution_count": 42,
   "metadata": {
    "scrolled": true
   },
   "outputs": [
    {
     "name": "stdout",
     "output_type": "stream",
     "text": [
      "RNN(\n",
      "  (rnn): RNN(5, 30, num_layers=2, batch_first=True)\n",
      "  (rnn2): RNN(5, 30, num_layers=2, batch_first=True)\n",
      "  (out): Linear(in_features=30, out_features=5, bias=True)\n",
      ")\n",
      "updating new train loss:  1566121.2\n",
      "updating new train loss:  1559401.9\n",
      "updating new train loss:  1515224.2\n",
      "updating new train loss:  1506604.0\n",
      "updating new train loss:  1484876.1\n",
      "updating new train loss:  1440741.0\n",
      "updating new train loss:  1434633.2\n",
      "updating new train loss:  1428354.1\n",
      "Step:  100 | train loss: 1487941.75\n",
      "updating new train loss:  1391246.1\n",
      "updating new train loss:  1367705.0\n",
      "Step:  200 | train loss: 1367705.00\n",
      "updating new train loss:  1349735.1\n",
      "updating new train loss:  1344077.2\n",
      "updating new train loss:  1325633.1\n",
      "updating new train loss:  1313934.5\n",
      "updating new train loss:  1243140.1\n",
      "updating new train loss:  1213885.4\n",
      "updating new train loss:  1197235.4\n",
      "updating new train loss:  1161576.2\n",
      "updating new train loss:  1146781.0\n",
      "updating new train loss:  1131532.4\n",
      "updating new train loss:  1076785.5\n",
      "updating new train loss:  1041257.4\n",
      "updating new train loss:  1027780.56\n",
      "Step:  300 | train loss: 1027780.56\n",
      "updating new train loss:  1013966.2\n",
      "updating new train loss:  995796.6\n",
      "updating new train loss:  992117.56\n",
      "updating new train loss:  989740.5\n",
      "updating new train loss:  944396.75\n",
      "updating new train loss:  908239.4\n",
      "updating new train loss:  893655.9\n",
      "Step:  400 | train loss: 1050901.25\n",
      "updating new train loss:  892421.44\n",
      "updating new train loss:  852741.0\n",
      "updating new train loss:  838747.94\n",
      "updating new train loss:  808994.2\n",
      "updating new train loss:  759310.25\n",
      "updating new train loss:  733057.0\n",
      "updating new train loss:  705108.25\n",
      "updating new train loss:  662090.5\n",
      "Step:  500 | train loss: 945329.88\n",
      "Step:  600 | train loss: 775887.88\n",
      "updating new train loss:  660924.56\n",
      "updating new train loss:  649168.2\n",
      "updating new train loss:  646803.2\n",
      "updating new train loss:  623920.75\n",
      "updating new train loss:  605242.3\n",
      "updating new train loss:  590301.3\n",
      "updating new train loss:  576717.3\n",
      "updating new train loss:  553468.94\n",
      "updating new train loss:  542823.8\n",
      "updating new train loss:  537631.56\n",
      "updating new train loss:  517756.9\n",
      "updating new train loss:  484125.4\n",
      "updating new train loss:  445580.2\n",
      "updating new train loss:  419161.1\n",
      "updating new train loss:  417753.53\n",
      "updating new train loss:  408879.75\n",
      "updating new train loss:  390261.75\n",
      "updating new train loss:  390005.75\n",
      "updating new train loss:  383445.44\n",
      "Step:  700 | train loss: 489318.22\n",
      "updating new train loss:  383156.8\n",
      "Step:  800 | train loss: 421493.50\n",
      "Step:  900 | train loss: 574488.69\n",
      "Step:  1000 | train loss: 751554.12\n",
      "Step:  1100 | train loss: 713880.75\n",
      "Step:  1200 | train loss: 715699.50\n",
      "Step:  1300 | train loss: 857540.38\n",
      "Step:  1400 | train loss: 869236.38\n",
      "Step:  1500 | train loss: 889045.38\n",
      "Step:  1600 | train loss: 893039.94\n",
      "Step:  1700 | train loss: 983723.12\n",
      "Step:  1800 | train loss: 1019719.75\n",
      "Step:  1900 | train loss: 1157395.00\n",
      "Step:  2000 | train loss: 1071362.00\n",
      "Step:  2100 | train loss: 959640.31\n",
      "Step:  2200 | train loss: 530292.12\n",
      "updating new train loss:  346139.84\n",
      "updating new train loss:  338625.6\n",
      "updating new train loss:  329518.66\n",
      "updating new train loss:  301449.16\n",
      "updating new train loss:  295070.03\n",
      "updating new train loss:  270156.72\n",
      "updating new train loss:  245887.16\n",
      "updating new train loss:  237090.06\n",
      "updating new train loss:  228843.92\n",
      "updating new train loss:  222651.22\n",
      "updating new train loss:  216987.69\n",
      "updating new train loss:  214683.83\n",
      "updating new train loss:  212447.33\n",
      "updating new train loss:  208392.2\n",
      "updating new train loss:  204939.34\n",
      "updating new train loss:  191691.55\n",
      "updating new train loss:  178816.72\n",
      "updating new train loss:  176101.73\n",
      "updating new train loss:  166019.06\n",
      "Step:  2300 | train loss: 196320.92\n",
      "updating new train loss:  157472.11\n",
      "updating new train loss:  144127.72\n",
      "updating new train loss:  138669.58\n",
      "updating new train loss:  129547.91\n",
      "updating new train loss:  127374.98\n",
      "Step:  2400 | train loss: 303370.41\n",
      "Step:  2500 | train loss: 454954.09\n",
      "Step:  2600 | train loss: 517509.47\n",
      "Step:  2700 | train loss: 473577.75\n",
      "Step:  2800 | train loss: 715635.38\n",
      "Step:  2900 | train loss: 658671.19\n",
      "Step:  3000 | train loss: 564075.69\n",
      "Step:  3100 | train loss: 751668.62\n",
      "Step:  3200 | train loss: 820285.44\n",
      "Step:  3300 | train loss: 896464.75\n",
      "Step:  3400 | train loss: 1137400.75\n",
      "Step:  3500 | train loss: 1333421.25\n",
      "Step:  3600 | train loss: 1457342.12\n",
      "Step:  3700 | train loss: 1721885.38\n",
      "Step:  3800 | train loss: 1828636.38\n",
      "Step:  3900 | train loss: 1736933.50\n",
      "Step:  4000 | train loss: 1765725.38\n",
      "Step:  4100 | train loss: 1715281.00\n",
      "Step:  4200 | train loss: 1762987.00\n",
      "Step:  4300 | train loss: 2128919.50\n",
      "Step:  4400 | train loss: 2430624.50\n",
      "Step:  4500 | train loss: 2858262.00\n",
      "Step:  4600 | train loss: 3148020.00\n",
      "Step:  4700 | train loss: 3640536.75\n",
      "Step:  100 | train loss: 320151.56\n",
      "Step:  200 | train loss: 265595.34\n",
      "Step:  300 | train loss: 135238.11\n",
      "updating new train loss:  122954.1\n",
      "updating new train loss:  106967.99\n",
      "updating new train loss:  93009.63\n",
      "updating new train loss:  90449.65\n",
      "Step:  400 | train loss: 152204.16\n",
      "updating new train loss:  81723.805\n",
      "updating new train loss:  78342.72\n",
      "updating new train loss:  65510.84\n",
      "updating new train loss:  54012.184\n",
      "updating new train loss:  45739.49\n",
      "updating new train loss:  39292.582\n",
      "updating new train loss:  28905.068\n",
      "Step:  500 | train loss: 115350.48\n",
      "Step:  600 | train loss: 67121.00\n",
      "updating new train loss:  26516.402\n",
      "updating new train loss:  23327.773\n",
      "updating new train loss:  21373.773\n",
      "updating new train loss:  18299.316\n",
      "updating new train loss:  13788.731\n",
      "updating new train loss:  12053.627\n",
      "updating new train loss:  11873.682\n",
      "updating new train loss:  11455.802\n",
      "updating new train loss:  9467.647\n",
      "updating new train loss:  4987.413\n",
      "updating new train loss:  1841.5182\n",
      "updating new train loss:  583.30927\n",
      "updating new train loss:  257.8401\n",
      "updating new train loss:  232.47916\n",
      "Step:  700 | train loss: 7635.58\n",
      "Step:  800 | train loss: 2096.48\n",
      "Step:  900 | train loss: 24809.36\n",
      "Step:  1000 | train loss: 76396.84\n",
      "Step:  1100 | train loss: 68373.21\n",
      "Step:  1200 | train loss: 72710.79\n",
      "Step:  1300 | train loss: 127513.99\n",
      "Step:  1400 | train loss: 137611.55\n",
      "Step:  1500 | train loss: 150990.50\n",
      "Step:  1600 | train loss: 158616.02\n",
      "Step:  1700 | train loss: 202549.97\n",
      "Step:  1800 | train loss: 225523.45\n",
      "Step:  1900 | train loss: 301756.81\n",
      "Step:  2000 | train loss: 257892.39\n",
      "Step:  2100 | train loss: 208808.05\n",
      "Step:  2200 | train loss: 64193.18\n",
      "Step:  2300 | train loss: 85126.39\n",
      "Step:  2400 | train loss: 4385.82\n",
      "Step:  2500 | train loss: 31227.70\n",
      "Step:  2600 | train loss: 98807.44\n",
      "Step:  2700 | train loss: 40940.30\n",
      "Step:  2800 | train loss: 140029.95\n",
      "Step:  2900 | train loss: 111581.70\n",
      "Step:  3000 | train loss: 77097.76\n",
      "Step:  3100 | train loss: 157277.61\n",
      "Step:  3200 | train loss: 192591.88\n",
      "Step:  3300 | train loss: 230487.67\n",
      "Step:  3400 | train loss: 359496.16\n",
      "Step:  3500 | train loss: 470390.62\n",
      "Step:  3600 | train loss: 541378.00\n",
      "Step:  3700 | train loss: 703490.56\n",
      "Step:  3800 | train loss: 766550.31\n",
      "Step:  3900 | train loss: 703529.94\n",
      "Step:  4000 | train loss: 722936.06\n",
      "Step:  4100 | train loss: 686568.62\n",
      "Step:  4200 | train loss: 714783.12\n",
      "Step:  4300 | train loss: 951318.38\n",
      "Step:  4400 | train loss: 1151866.88\n",
      "Step:  4500 | train loss: 1446419.50\n",
      "Step:  4600 | train loss: 1648055.88\n",
      "Step:  4700 | train loss: 2003833.00\n",
      "Step:  100 | train loss: 16921.32\n",
      "Step:  200 | train loss: 5505.12\n",
      "Step:  300 | train loss: 17625.06\n",
      "Step:  400 | train loss: 14550.68\n",
      "Step:  500 | train loss: 19043.84\n",
      "Step:  600 | train loss: 45427.68\n",
      "Step:  700 | train loss: 138915.44\n",
      "Step:  800 | train loss: 163759.17\n",
      "Step:  900 | train loss: 77505.66\n",
      "Step:  1000 | train loss: 24435.84\n",
      "Step:  1100 | train loss: 25349.08\n",
      "Step:  1200 | train loss: 19597.47\n",
      "Step:  1300 | train loss: 1912.38\n",
      "Step:  1400 | train loss: 472.91\n",
      "updating new train loss:  222.14401\n",
      "updating new train loss:  83.42451\n",
      "updating new train loss:  11.340497\n",
      "updating new train loss:  6.1031647\n",
      "Step:  1500 | train loss: 129.31\n",
      "Step:  1600 | train loss: 2192.95\n",
      "Step:  1700 | train loss: 6460.48\n",
      "Step:  1800 | train loss: 14952.13\n",
      "Step:  1900 | train loss: 45157.51\n",
      "Step:  2000 | train loss: 26142.98\n",
      "Step:  2100 | train loss: 14796.92\n"
     ]
    },
    {
     "name": "stdout",
     "output_type": "stream",
     "text": [
      "Step:  2200 | train loss: 51045.42\n",
      "Step:  2300 | train loss: 286177.75\n",
      "Step:  2400 | train loss: 74091.11\n",
      "Step:  2500 | train loss: 15515.73\n",
      "Step:  2600 | train loss: 77839.27\n",
      "Step:  2700 | train loss: 6269.03\n",
      "Step:  2800 | train loss: 19958.94\n",
      "Step:  2900 | train loss: 4936.83\n",
      "Step:  3000 | train loss: 482.02\n",
      "Step:  3100 | train loss: 21358.61\n",
      "Step:  3200 | train loss: 38669.82\n",
      "Step:  3300 | train loss: 57178.60\n",
      "Step:  3400 | train loss: 129515.93\n",
      "Step:  3500 | train loss: 197336.22\n",
      "Step:  3600 | train loss: 241464.17\n",
      "Step:  3700 | train loss: 350612.81\n",
      "Step:  3800 | train loss: 391272.53\n",
      "Step:  3900 | train loss: 343861.12\n",
      "Step:  4000 | train loss: 359130.78\n",
      "Step:  4100 | train loss: 330776.47\n",
      "Step:  4200 | train loss: 349237.94\n",
      "Step:  4300 | train loss: 517870.38\n",
      "Step:  4400 | train loss: 665018.56\n",
      "Step:  4500 | train loss: 888921.69\n",
      "Step:  4600 | train loss: 1043571.31\n",
      "Step:  4700 | train loss: 1326342.88\n",
      "Step:  100 | train loss: 50568.48\n",
      "Step:  200 | train loss: 57341.98\n",
      "Step:  300 | train loss: 138364.97\n",
      "Step:  400 | train loss: 118174.23\n",
      "Step:  500 | train loss: 136519.34\n",
      "Step:  600 | train loss: 193027.72\n",
      "Step:  700 | train loss: 353747.53\n",
      "Step:  800 | train loss: 384686.72\n",
      "Step:  900 | train loss: 237695.22\n",
      "Step:  1000 | train loss: 127575.05\n",
      "Step:  1100 | train loss: 126838.70\n",
      "Step:  1200 | train loss: 110473.80\n",
      "Step:  1300 | train loss: 53334.39\n",
      "Step:  1400 | train loss: 41473.13\n",
      "Step:  1500 | train loss: 30005.28\n",
      "Step:  1600 | train loss: 25100.51\n",
      "Step:  1700 | train loss: 7298.28\n",
      "Step:  1800 | train loss: 6031.56\n",
      "Step:  1900 | train loss: 13726.88\n",
      "Step:  2000 | train loss: 3292.04\n",
      "Step:  2100 | train loss: 4924.93\n",
      "Step:  2200 | train loss: 111219.24\n",
      "Step:  2300 | train loss: 428005.28\n",
      "Step:  2400 | train loss: 158718.14\n",
      "Step:  2500 | train loss: 61453.22\n",
      "Step:  2600 | train loss: 118074.58\n",
      "Step:  2700 | train loss: 37569.58\n",
      "Step:  2800 | train loss: 13586.88\n",
      "Step:  2900 | train loss: 1698.29\n",
      "Step:  3000 | train loss: 6450.65\n",
      "Step:  3100 | train loss: 2612.11\n",
      "Step:  3200 | train loss: 12269.53\n",
      "Step:  3300 | train loss: 23978.54\n",
      "Step:  3400 | train loss: 79296.56\n",
      "Step:  3500 | train loss: 137044.42\n",
      "Step:  3600 | train loss: 176992.81\n",
      "Step:  3700 | train loss: 274498.41\n",
      "Step:  3800 | train loss: 311657.03\n",
      "Step:  3900 | train loss: 270266.50\n",
      "Step:  4000 | train loss: 285627.72\n",
      "Step:  4100 | train loss: 260179.30\n",
      "Step:  4200 | train loss: 276916.25\n",
      "Step:  4300 | train loss: 429028.66\n",
      "Step:  4400 | train loss: 563356.56\n",
      "Step:  4500 | train loss: 770032.06\n",
      "Step:  4600 | train loss: 913333.38\n",
      "Step:  4700 | train loss: 1178141.62\n"
     ]
    }
   ],
   "source": [
    "EPOCH = 4\n",
    "BATCH_SIZE = 1\n",
    "# TIME_STEP = 10\n",
    "INPUT_SIZE = 5\n",
    "LR = 0.005\n",
    "\n",
    "\n",
    "class RNN(nn.Module):\n",
    "    def __init__(self):\n",
    "        super(RNN, self).__init__()\n",
    "        \n",
    "        self.rnn = nn.RNN(\n",
    "            input_size = INPUT_SIZE,\n",
    "            hidden_size = 30,\n",
    "            num_layers = 2,\n",
    "            batch_first = True\n",
    "        )\n",
    "        \n",
    "        \n",
    "        self.rnn2 = nn.RNN(\n",
    "            input_size = 5,\n",
    "            hidden_size = 30,\n",
    "            num_layers = 2,\n",
    "            batch_first = True\n",
    "        )\n",
    "            \n",
    "        self.out = nn.Linear(30, 5) # is the first number here = hidden_size? and second = 1 for regression?\n",
    "        \n",
    "    def forward(self, x, h_state):\n",
    "        \n",
    "        r_out, h_state = self.rnn(x, h_state)\n",
    "        \n",
    "        r_out, h_state = self.rnn2(x, h_state)\n",
    "        \n",
    "        r_out = r_out.view(-1,30)\n",
    "        \n",
    "        outs = self.out(r_out)\n",
    "        \n",
    "        return outs, h_state\n",
    "    \n",
    "rnn = RNN()\n",
    "print(rnn)\n",
    "\n",
    "optimizer = torch.optim.Adam(rnn.parameters(), lr = LR)\n",
    "loss_func = nn.MSELoss()\n",
    "\n",
    "h_state = None\n",
    "min_train_loss = 999999999\n",
    "loss_list = []\n",
    "prediction_save = []\n",
    "\n",
    "for epoch in range(EPOCH):\n",
    "    for i in range(1, spy_df.size(1)-1):\n",
    "    #     print(i)\n",
    "        x = spy_df[:,((i-1)*BATCH_SIZE):(i * BATCH_SIZE),:]\n",
    "        y = spy_df[:,(i * BATCH_SIZE+1),:]\n",
    "#         y = spy_df[:,(i * BATCH_SIZE+1),:]\n",
    "\n",
    "        prediction, h_state = rnn(x, h_state)\n",
    "        h_state = h_state.data\n",
    "        prediction_save.append(prediction)\n",
    "\n",
    "        loss = loss_func(prediction, y)\n",
    "        optimizer.zero_grad()                   # clear gradients for this training step\n",
    "        loss.backward()                         # backpropagation, compute gradients\n",
    "        optimizer.step() \n",
    "        \n",
    "        if loss.data.numpy() <= min_train_loss:\n",
    "            min_train_loss = loss.data.numpy()\n",
    "            print(\"updating new train loss: \", loss.data.numpy())\n",
    "        loss_list.append(loss.data.numpy())\n",
    "        if i %100 == 0:\n",
    "            print('Step: ', i, '| train loss: %.2f' % loss.data.numpy())        "
   ]
  },
  {
   "cell_type": "code",
   "execution_count": 43,
   "metadata": {},
   "outputs": [
    {
     "name": "stdout",
     "output_type": "stream",
     "text": [
      "6.1031647\n"
     ]
    }
   ],
   "source": [
    "print(min_train_loss) \n",
    "# 22100 steps and 44200 steps gives similar loss at 15 with LR = 0.01\n",
    "# 44200 steps with LR = 0.005 gives loss at 1.82\n",
    "# 88400 steps with LR = 0.0025 gives loss at 3.8"
   ]
  },
  {
   "cell_type": "code",
   "execution_count": 47,
   "metadata": {},
   "outputs": [
    {
     "name": "stdout",
     "output_type": "stream",
     "text": [
      "prediction:  tensor([1672.7499, 1681.1732, 1663.8157, 1673.1177,  355.4963],\n",
      "       grad_fn=<SelectBackward>)\n",
      "y label :  tensor([2902.5400, 2909.6399, 2869.2900, 2885.5701,  332.0000])\n"
     ]
    }
   ],
   "source": [
    "print(\"prediction: \",prediction[-1])\n",
    "print(\"y label : \",y[-1])"
   ]
  },
  {
   "cell_type": "code",
   "execution_count": 28,
   "metadata": {},
   "outputs": [
    {
     "data": {
      "text/plain": [
       "47190"
      ]
     },
     "execution_count": 28,
     "metadata": {},
     "output_type": "execute_result"
    }
   ],
   "source": [
    "len(loss_list)"
   ]
  },
  {
   "cell_type": "code",
   "execution_count": 44,
   "metadata": {},
   "outputs": [
    {
     "data": {
      "text/plain": [
       "[<matplotlib.lines.Line2D at 0x1171087f0>]"
      ]
     },
     "execution_count": 44,
     "metadata": {},
     "output_type": "execute_result"
    },
    {
     "data": {
      "image/png": "[encoded data removed]",
      "text/plain": [
       "<Figure size 432x288 with 1 Axes>"
      ]
     },
     "metadata": {},
     "output_type": "display_data"
    }
   ],
   "source": [
    "plt.plot(loss_list)"
   ]
  },
  {
   "cell_type": "code",
   "execution_count": 45,
   "metadata": {},
   "outputs": [
    {
     "data": {
      "text/plain": [
       "[array(1248379.6, dtype=float32),\n",
       " array(1246592.8, dtype=float32),\n",
       " array(1237217.4, dtype=float32),\n",
       " array(1239448.9, dtype=float32),\n",
       " array(1233417.8, dtype=float32),\n",
       " array(1259782., dtype=float32),\n",
       " array(1255280.4, dtype=float32),\n",
       " array(1264927.5, dtype=float32),\n",
       " array(1217749.1, dtype=float32),\n",
       " array(1189055.1, dtype=float32)]"
      ]
     },
     "execution_count": 45,
     "metadata": {},
     "output_type": "execute_result"
    }
   ],
   "source": [
    "loss_list[-10:]"
   ]
  },
  {
   "cell_type": "code",
   "execution_count": null,
   "metadata": {},
   "outputs": [],
   "source": []
  },
  {
   "cell_type": "code",
   "execution_count": 121,
   "metadata": {},
   "outputs": [
    {
     "name": "stdout",
     "output_type": "stream",
     "text": [
      "tensor(1445402.1250, grad_fn=<MseLossBackward>)\n"
     ]
    }
   ],
   "source": [
    "print(loss_func(prediction, y))"
   ]
  },
  {
   "cell_type": "code",
   "execution_count": 122,
   "metadata": {},
   "outputs": [
    {
     "data": {
      "text/plain": [
       "array(1445402.1, dtype=float32)"
      ]
     },
     "execution_count": 122,
     "metadata": {},
     "output_type": "execute_result"
    }
   ],
   "source": [
    "loss_func(prediction, y).data.numpy()"
   ]
  },
  {
   "cell_type": "code",
   "execution_count": null,
   "metadata": {},
   "outputs": [],
   "source": []
  }
 ],
 "metadata": {
  "kernelspec": {
   "display_name": "Python 3",
   "language": "python",
   "name": "python3"
  },
  "language_info": {
   "codemirror_mode": {
    "name": "ipython",
    "version": 3
   },
   "file_extension": ".py",
   "mimetype": "text/x-python",
   "name": "python",
   "nbconvert_exporter": "python",
   "pygments_lexer": "ipython3",
   "version": "3.6.6"
  }
 },
 "nbformat": 4,
 "nbformat_minor": 2
}
