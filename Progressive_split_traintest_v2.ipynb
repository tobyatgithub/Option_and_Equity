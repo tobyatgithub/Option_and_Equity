{
 "cells": [
  {
   "cell_type": "code",
   "execution_count": 1,
   "metadata": {},
   "outputs": [
    {
     "data": {
      "text/plain": [
       "\"\\n9-29-2018, version 2:\\nMaybe...we may need to do the feature engineering over here...\\nLet me save this one as v1, and modify on v2.\\n\\n9-28-2018, version 1:\\n\\nAttempt to split the dataset into training and evaluation by using panda.\\nGiven the size of data, I'm a bit worried about the time consumption.\\n\\nGreat reference:\\n1. https://www.kaggle.com/szelee/how-to-import-a-csv-file-of-55-million-rows\\n\\n\""
      ]
     },
     "execution_count": 1,
     "metadata": {},
     "output_type": "execute_result"
    }
   ],
   "source": [
    "\"\"\"\n",
    "9-29-2018, version 2:\n",
    "Maybe...we may need to do the feature engineering over here...\n",
    "Let me save this one as v1, and modify on v2.\n",
    "\n",
    "9-28-2018, version 1:\n",
    "\n",
    "Attempt to split the dataset into training and evaluation by using panda.\n",
    "Given the size of data, I'm a bit worried about the time consumption.\n",
    "\n",
    "Great reference:\n",
    "1. https://www.kaggle.com/szelee/how-to-import-a-csv-file-of-55-million-rows\n",
    "\n",
    "\"\"\""
   ]
  },
  {
   "cell_type": "code",
   "execution_count": 2,
   "metadata": {},
   "outputs": [],
   "source": [
    "# import sys\n",
    "# !{sys.executable} -m pip install tqdm"
   ]
  },
  {
   "cell_type": "code",
   "execution_count": 3,
   "metadata": {},
   "outputs": [],
   "source": [
    "import os\n",
    "import pandas as pd\n",
    "import numpy as np\n",
    "from tqdm import tqdm\n",
    "# import matplotlib as plt\n",
    "import time\n",
    "from math import sqrt\n",
    "# import random\n",
    "# import tensorflow as tf\n",
    "# import shutil\n",
    "from sklearn.model_selection import train_test_split\n",
    "\n"
   ]
  },
  {
   "cell_type": "code",
   "execution_count": 4,
   "metadata": {},
   "outputs": [
    {
     "data": {
      "text/plain": [
       "2"
      ]
     },
     "execution_count": 4,
     "metadata": {},
     "output_type": "execute_result"
    }
   ],
   "source": [
    "1 + 1"
   ]
  },
  {
   "cell_type": "code",
   "execution_count": 5,
   "metadata": {},
   "outputs": [],
   "source": [
    "def late_night (row):\n",
    "    if (row['hour'] <= 6) or (row['hour'] >= 20):\n",
    "        return 1\n",
    "    else:\n",
    "        return 0\n",
    "\n",
    "\n",
    "def night (row):\n",
    "    if ((row['hour'] <= 20) and (row['hour'] >= 16)) and (row['weekday'] < 5):\n",
    "        return 1\n",
    "    else:\n",
    "        return 0\n",
    "\n",
    "\n",
    "\n",
    "def clean_df(df):\n",
    "    df = df.dropna(how = 'any', axis = 'rows')\n",
    "    df = df[df[\"fare_amount\"] > 2.5]\n",
    "    df = df[(df[\"passenger_count\"] > 0) & (df[\"passenger_count\"] <= 4)]\n",
    "    df = df[(df[\"dropoff_longitude\"] > -76) & (df[\"dropoff_longitude\"] < -72)]\n",
    "    df = df[(df[\"pickup_longitude\"] > -76) & (df[\"pickup_longitude\"] < -72)]\n",
    "    df = df[(df[\"pickup_latitude\"] > 38) & (df[\"pickup_latitude\"] < 42)]\n",
    "    df = df[(df[\"dropoff_latitude\"] > 38) & (df[\"dropoff_latitude\"] < 42)]  \n",
    "    \n",
    "    df['abs_diff_longitude'] = (df.dropoff_longitude - df.pickup_longitude).abs()\n",
    "    df['abs_diff_latitude'] = (df.dropoff_latitude - df.pickup_latitude).abs()\n",
    "    \n",
    "    df['distance'] = ((df.abs_diff_longitude)**2 + \\\n",
    "                      (df.abs_diff_latitude)**2).apply(lambda x: 69.172*sqrt(x))\n",
    "\n",
    "    df = df[((df[\"distance\"] <= 25) & (df[\"fare_amount\"] <= 50))\\\n",
    "            | ((df[\"distance\"] > 25) & (df[\"fare_amount\"] >= 50))]\n",
    "    return df\n",
    "\n",
    "\n",
    "def add_more_features(df):\n",
    "    \"\"\"here..\"\"\"\n",
    "    \n",
    "#     df['pickup_datetime'] =  pd.to_datetime(df['pickup_datetime'], format='%Y-%m-%d %H:%M:%S %Z') #already done\n",
    "\n",
    "    df['year'] = df['pickup_datetime'].apply(lambda x: x.year)\n",
    "    df['month'] = df['pickup_datetime'].apply(lambda x: x.month)\n",
    "    df['day'] = df['pickup_datetime'].apply(lambda x: x.day)\n",
    "    df['hour'] = df['pickup_datetime'].apply(lambda x: x.hour)\n",
    "    df['weekday'] = df['pickup_datetime'].apply(lambda x: x.weekday())\n",
    "    df['night'] = df.apply (lambda x: night(x), axis=1)\n",
    "    df['late_night'] = df.apply (lambda x: late_night(x), axis=1)    \n",
    "    df = df.drop(\"pickup_datetime\",1)\n",
    "    return df\n",
    "\n",
    "# Create pandas input function\n",
    "def make_input_fn(df, num_epochs):\n",
    "    return tf.estimator.inputs.pandas_input_fn(\n",
    "    x = add_more_features(df),\n",
    "    y = df['fare_amount'],\n",
    "    batch_size = 128*3, # no sure why..\n",
    "    num_epochs = num_epochs,\n",
    "    shuffle = True,\n",
    "    queue_capacity = 1000,\n",
    "    num_threads = 1\n",
    "  )\n",
    "\n",
    "def create_feature_cols():\n",
    "    return [\n",
    "    tf.feature_column.numeric_column('passenger_count'),\n",
    "    tf.feature_column.bucketized_column(tf.feature_column.numeric_column('pickup_longitude'),\\\n",
    "                                        boundaries = np.arange(-76.0, -72, 0.25).tolist()),\n",
    "    tf.feature_column.bucketized_column(tf.feature_column.numeric_column('dropoff_longitude'),\\\n",
    "                                        boundaries = np.arange(-76.0, -72, 0.25).tolist()),\n",
    "    tf.feature_column.bucketized_column(tf.feature_column.numeric_column('pickup_latitude'),\\\n",
    "                                        boundaries = np.arange(38.0, 42, 0.25).tolist()), \n",
    "    tf.feature_column.bucketized_column(tf.feature_column.numeric_column('dropoff_latitude'),\\\n",
    "                                        boundaries = np.arange(38.0, 42, 0.25).tolist()),         \n",
    "    tf.feature_column.numeric_column('abs_diff_longitude'),\n",
    "    tf.feature_column.numeric_column('abs_diff_latitude'),\n",
    "    tf.feature_column.numeric_column('distance'),\n",
    "    tf.feature_column.numeric_column('year'),\n",
    "    tf.feature_column.numeric_column('month'),\n",
    "    tf.feature_column.numeric_column('day'),\n",
    "    tf.feature_column.numeric_column('hour'),\n",
    "    tf.feature_column.numeric_column('weekday'),\n",
    "    tf.feature_column.numeric_column('night'),\n",
    "    tf.feature_column.numeric_column('late_night')        \n",
    "  ]\n",
    "\n",
    "# Create estimator train and evaluate function\n",
    "# def train_and_evaluate(output_dir, num_train_steps):\n",
    "#     estimator = tf.estimator.LinearRegressor(model_dir = output_dir, feature_columns = create_feature_cols())\n",
    "#     train_spec = tf.estimator.TrainSpec(input_fn = make_input_fn(train_df, 1),\\\n",
    "#                                       max_steps = num_train_steps)\n",
    "#     eval_spec = tf.estimator.EvalSpec(input_fn = make_input_fn(eval_df, 1), \n",
    "#                                     steps = None, \n",
    "#                                     start_delay_secs = 1, # start evaluating after N seconds, \n",
    "#                                     throttle_secs = 5)  # evaluate every N seconds\n",
    "#     tf.estimator.train_and_evaluate(estimator, train_spec, eval_spec)\n",
    "\n",
    "# np.arange(-76.0, -72, 0.25)\n"
   ]
  },
  {
   "cell_type": "code",
   "execution_count": 6,
   "metadata": {},
   "outputs": [
    {
     "name": "stdout",
     "output_type": "stream",
     "text": [
      "CPU times: user 6 µs, sys: 1 µs, total: 7 µs\n",
      "Wall time: 9.06 µs\n"
     ]
    }
   ],
   "source": [
    "%%time\n",
    "chunksize = 5_000_000 # alright..with cleaning and featuring.. 5,000,000 might be too large.\n",
    "chunksize = 2_000_000\n",
    "traintypes = {\n",
    "    'key':'str',\n",
    "    'fare_amount': 'float32',\n",
    "    'pickup_datetime': 'str', \n",
    "    'pickup_longitude': 'float32',\n",
    "    'pickup_latitude': 'float32',\n",
    "    'dropoff_longitude': 'float32',\n",
    "    'dropoff_latitude': 'float32',\n",
    "    'passenger_count': 'uint8'}\n",
    "\n",
    "cols = list(traintypes.keys())\n",
    "\n",
    "df_list = []"
   ]
  },
  {
   "cell_type": "code",
   "execution_count": 7,
   "metadata": {},
   "outputs": [],
   "source": [
    "# ?tqdm"
   ]
  },
  {
   "cell_type": "code",
   "execution_count": null,
   "metadata": {},
   "outputs": [],
   "source": []
  },
  {
   "cell_type": "code",
   "execution_count": 8,
   "metadata": {
    "scrolled": true
   },
   "outputs": [
    {
     "name": "stderr",
     "output_type": "stream",
     "text": [
      "\r",
      "0it [00:00, ?it/s]"
     ]
    },
    {
     "name": "stdout",
     "output_type": "stream",
     "text": [
      "running on ... /Users/toby/Downloads/Data/Kaggle_Taxi/\n",
      "ok..let's print sth out..might be a bad idea? who knows!\n"
     ]
    },
    {
     "name": "stderr",
     "output_type": "stream",
     "text": [
      "\r",
      "1it [05:05, 305.14s/it]"
     ]
    },
    {
     "ename": "KeyboardInterrupt",
     "evalue": "",
     "output_type": "error",
     "traceback": [
      "\u001b[0;31m---------------------------------------------------------------------------\u001b[0m",
      "\u001b[0;31mKeyboardInterrupt\u001b[0m                         Traceback (most recent call last)",
      "\u001b[0;32m<timed exec>\u001b[0m in \u001b[0;36m<module>\u001b[0;34m()\u001b[0m\n",
      "\u001b[0;32m<ipython-input-5-e95ad721b654>\u001b[0m in \u001b[0;36madd_more_features\u001b[0;34m(df)\u001b[0m\n\u001b[1;32m     43\u001b[0m     \u001b[0mdf\u001b[0m\u001b[0;34m[\u001b[0m\u001b[0;34m'weekday'\u001b[0m\u001b[0;34m]\u001b[0m \u001b[0;34m=\u001b[0m \u001b[0mdf\u001b[0m\u001b[0;34m[\u001b[0m\u001b[0;34m'pickup_datetime'\u001b[0m\u001b[0;34m]\u001b[0m\u001b[0;34m.\u001b[0m\u001b[0mapply\u001b[0m\u001b[0;34m(\u001b[0m\u001b[0;32mlambda\u001b[0m \u001b[0mx\u001b[0m\u001b[0;34m:\u001b[0m \u001b[0mx\u001b[0m\u001b[0;34m.\u001b[0m\u001b[0mweekday\u001b[0m\u001b[0;34m(\u001b[0m\u001b[0;34m)\u001b[0m\u001b[0;34m)\u001b[0m\u001b[0;34m\u001b[0m\u001b[0m\n\u001b[1;32m     44\u001b[0m     \u001b[0mdf\u001b[0m\u001b[0;34m[\u001b[0m\u001b[0;34m'night'\u001b[0m\u001b[0;34m]\u001b[0m \u001b[0;34m=\u001b[0m \u001b[0mdf\u001b[0m\u001b[0;34m.\u001b[0m\u001b[0mapply\u001b[0m \u001b[0;34m(\u001b[0m\u001b[0;32mlambda\u001b[0m \u001b[0mx\u001b[0m\u001b[0;34m:\u001b[0m \u001b[0mnight\u001b[0m\u001b[0;34m(\u001b[0m\u001b[0mx\u001b[0m\u001b[0;34m)\u001b[0m\u001b[0;34m,\u001b[0m \u001b[0maxis\u001b[0m\u001b[0;34m=\u001b[0m\u001b[0;36m1\u001b[0m\u001b[0;34m)\u001b[0m\u001b[0;34m\u001b[0m\u001b[0m\n\u001b[0;32m---> 45\u001b[0;31m     \u001b[0mdf\u001b[0m\u001b[0;34m[\u001b[0m\u001b[0;34m'late_night'\u001b[0m\u001b[0;34m]\u001b[0m \u001b[0;34m=\u001b[0m \u001b[0mdf\u001b[0m\u001b[0;34m.\u001b[0m\u001b[0mapply\u001b[0m \u001b[0;34m(\u001b[0m\u001b[0;32mlambda\u001b[0m \u001b[0mx\u001b[0m\u001b[0;34m:\u001b[0m \u001b[0mlate_night\u001b[0m\u001b[0;34m(\u001b[0m\u001b[0mx\u001b[0m\u001b[0;34m)\u001b[0m\u001b[0;34m,\u001b[0m \u001b[0maxis\u001b[0m\u001b[0;34m=\u001b[0m\u001b[0;36m1\u001b[0m\u001b[0;34m)\u001b[0m\u001b[0;34m\u001b[0m\u001b[0m\n\u001b[0m\u001b[1;32m     46\u001b[0m     \u001b[0mdf\u001b[0m \u001b[0;34m=\u001b[0m \u001b[0mdf\u001b[0m\u001b[0;34m.\u001b[0m\u001b[0mdrop\u001b[0m\u001b[0;34m(\u001b[0m\u001b[0;34m\"pickup_datetime\"\u001b[0m\u001b[0;34m,\u001b[0m\u001b[0;36m1\u001b[0m\u001b[0;34m)\u001b[0m\u001b[0;34m\u001b[0m\u001b[0m\n\u001b[1;32m     47\u001b[0m     \u001b[0;32mreturn\u001b[0m \u001b[0mdf\u001b[0m\u001b[0;34m\u001b[0m\u001b[0m\n",
      "\u001b[0;32m~/anaconda3/envs/py36/lib/python3.6/site-packages/pandas/core/frame.py\u001b[0m in \u001b[0;36mapply\u001b[0;34m(self, func, axis, broadcast, raw, reduce, result_type, args, **kwds)\u001b[0m\n\u001b[1;32m   6012\u001b[0m                          \u001b[0margs\u001b[0m\u001b[0;34m=\u001b[0m\u001b[0margs\u001b[0m\u001b[0;34m,\u001b[0m\u001b[0;34m\u001b[0m\u001b[0m\n\u001b[1;32m   6013\u001b[0m                          kwds=kwds)\n\u001b[0;32m-> 6014\u001b[0;31m         \u001b[0;32mreturn\u001b[0m \u001b[0mop\u001b[0m\u001b[0;34m.\u001b[0m\u001b[0mget_result\u001b[0m\u001b[0;34m(\u001b[0m\u001b[0;34m)\u001b[0m\u001b[0;34m\u001b[0m\u001b[0m\n\u001b[0m\u001b[1;32m   6015\u001b[0m \u001b[0;34m\u001b[0m\u001b[0m\n\u001b[1;32m   6016\u001b[0m     \u001b[0;32mdef\u001b[0m \u001b[0mapplymap\u001b[0m\u001b[0;34m(\u001b[0m\u001b[0mself\u001b[0m\u001b[0;34m,\u001b[0m \u001b[0mfunc\u001b[0m\u001b[0;34m)\u001b[0m\u001b[0;34m:\u001b[0m\u001b[0;34m\u001b[0m\u001b[0m\n",
      "\u001b[0;32m~/anaconda3/envs/py36/lib/python3.6/site-packages/pandas/core/apply.py\u001b[0m in \u001b[0;36mget_result\u001b[0;34m(self)\u001b[0m\n\u001b[1;32m    140\u001b[0m             \u001b[0;32mreturn\u001b[0m \u001b[0mself\u001b[0m\u001b[0;34m.\u001b[0m\u001b[0mapply_raw\u001b[0m\u001b[0;34m(\u001b[0m\u001b[0;34m)\u001b[0m\u001b[0;34m\u001b[0m\u001b[0m\n\u001b[1;32m    141\u001b[0m \u001b[0;34m\u001b[0m\u001b[0m\n\u001b[0;32m--> 142\u001b[0;31m         \u001b[0;32mreturn\u001b[0m \u001b[0mself\u001b[0m\u001b[0;34m.\u001b[0m\u001b[0mapply_standard\u001b[0m\u001b[0;34m(\u001b[0m\u001b[0;34m)\u001b[0m\u001b[0;34m\u001b[0m\u001b[0m\n\u001b[0m\u001b[1;32m    143\u001b[0m \u001b[0;34m\u001b[0m\u001b[0m\n\u001b[1;32m    144\u001b[0m     \u001b[0;32mdef\u001b[0m \u001b[0mapply_empty_result\u001b[0m\u001b[0;34m(\u001b[0m\u001b[0mself\u001b[0m\u001b[0;34m)\u001b[0m\u001b[0;34m:\u001b[0m\u001b[0;34m\u001b[0m\u001b[0m\n",
      "\u001b[0;32m~/anaconda3/envs/py36/lib/python3.6/site-packages/pandas/core/apply.py\u001b[0m in \u001b[0;36mapply_standard\u001b[0;34m(self)\u001b[0m\n\u001b[1;32m    246\u001b[0m \u001b[0;34m\u001b[0m\u001b[0m\n\u001b[1;32m    247\u001b[0m         \u001b[0;31m# compute the result using the series generator\u001b[0m\u001b[0;34m\u001b[0m\u001b[0;34m\u001b[0m\u001b[0m\n\u001b[0;32m--> 248\u001b[0;31m         \u001b[0mself\u001b[0m\u001b[0;34m.\u001b[0m\u001b[0mapply_series_generator\u001b[0m\u001b[0;34m(\u001b[0m\u001b[0;34m)\u001b[0m\u001b[0;34m\u001b[0m\u001b[0m\n\u001b[0m\u001b[1;32m    249\u001b[0m \u001b[0;34m\u001b[0m\u001b[0m\n\u001b[1;32m    250\u001b[0m         \u001b[0;31m# wrap results\u001b[0m\u001b[0;34m\u001b[0m\u001b[0;34m\u001b[0m\u001b[0m\n",
      "\u001b[0;32m~/anaconda3/envs/py36/lib/python3.6/site-packages/pandas/core/apply.py\u001b[0m in \u001b[0;36mapply_series_generator\u001b[0;34m(self)\u001b[0m\n\u001b[1;32m    274\u001b[0m         \u001b[0;32melse\u001b[0m\u001b[0;34m:\u001b[0m\u001b[0;34m\u001b[0m\u001b[0m\n\u001b[1;32m    275\u001b[0m             \u001b[0;32mtry\u001b[0m\u001b[0;34m:\u001b[0m\u001b[0;34m\u001b[0m\u001b[0m\n\u001b[0;32m--> 276\u001b[0;31m                 \u001b[0;32mfor\u001b[0m \u001b[0mi\u001b[0m\u001b[0;34m,\u001b[0m \u001b[0mv\u001b[0m \u001b[0;32min\u001b[0m \u001b[0menumerate\u001b[0m\u001b[0;34m(\u001b[0m\u001b[0mseries_gen\u001b[0m\u001b[0;34m)\u001b[0m\u001b[0;34m:\u001b[0m\u001b[0;34m\u001b[0m\u001b[0m\n\u001b[0m\u001b[1;32m    277\u001b[0m                     \u001b[0mresults\u001b[0m\u001b[0;34m[\u001b[0m\u001b[0mi\u001b[0m\u001b[0;34m]\u001b[0m \u001b[0;34m=\u001b[0m \u001b[0mself\u001b[0m\u001b[0;34m.\u001b[0m\u001b[0mf\u001b[0m\u001b[0;34m(\u001b[0m\u001b[0mv\u001b[0m\u001b[0;34m)\u001b[0m\u001b[0;34m\u001b[0m\u001b[0m\n\u001b[1;32m    278\u001b[0m                     \u001b[0mkeys\u001b[0m\u001b[0;34m.\u001b[0m\u001b[0mappend\u001b[0m\u001b[0;34m(\u001b[0m\u001b[0mv\u001b[0m\u001b[0;34m.\u001b[0m\u001b[0mname\u001b[0m\u001b[0;34m)\u001b[0m\u001b[0;34m\u001b[0m\u001b[0m\n",
      "\u001b[0;32m~/anaconda3/envs/py36/lib/python3.6/site-packages/pandas/core/apply.py\u001b[0m in \u001b[0;36m<genexpr>\u001b[0;34m(.0)\u001b[0m\n\u001b[1;32m    365\u001b[0m         \u001b[0mconstructor\u001b[0m \u001b[0;34m=\u001b[0m \u001b[0mself\u001b[0m\u001b[0;34m.\u001b[0m\u001b[0mobj\u001b[0m\u001b[0;34m.\u001b[0m\u001b[0m_constructor_sliced\u001b[0m\u001b[0;34m\u001b[0m\u001b[0m\n\u001b[1;32m    366\u001b[0m         return (constructor(arr, index=self.columns, name=name)\n\u001b[0;32m--> 367\u001b[0;31m                 for i, (arr, name) in enumerate(zip(self.values,\n\u001b[0m\u001b[1;32m    368\u001b[0m                                                     self.index)))\n\u001b[1;32m    369\u001b[0m \u001b[0;34m\u001b[0m\u001b[0m\n",
      "\u001b[0;32m~/anaconda3/envs/py36/lib/python3.6/site-packages/pandas/core/series.py\u001b[0m in \u001b[0;36m__init__\u001b[0;34m(self, data, index, dtype, name, copy, fastpath)\u001b[0m\n\u001b[1;32m    273\u001b[0m             \u001b[0;32melse\u001b[0m\u001b[0;34m:\u001b[0m\u001b[0;34m\u001b[0m\u001b[0m\n\u001b[1;32m    274\u001b[0m                 data = _sanitize_array(data, index, dtype, copy,\n\u001b[0;32m--> 275\u001b[0;31m                                        raise_cast_failure=True)\n\u001b[0m\u001b[1;32m    276\u001b[0m \u001b[0;34m\u001b[0m\u001b[0m\n\u001b[1;32m    277\u001b[0m                 \u001b[0mdata\u001b[0m \u001b[0;34m=\u001b[0m \u001b[0mSingleBlockManager\u001b[0m\u001b[0;34m(\u001b[0m\u001b[0mdata\u001b[0m\u001b[0;34m,\u001b[0m \u001b[0mindex\u001b[0m\u001b[0;34m,\u001b[0m \u001b[0mfastpath\u001b[0m\u001b[0;34m=\u001b[0m\u001b[0;32mTrue\u001b[0m\u001b[0;34m)\u001b[0m\u001b[0;34m\u001b[0m\u001b[0m\n",
      "\u001b[0;32m~/anaconda3/envs/py36/lib/python3.6/site-packages/pandas/core/series.py\u001b[0m in \u001b[0;36m_sanitize_array\u001b[0;34m(data, index, dtype, copy, raise_cast_failure)\u001b[0m\n\u001b[1;32m   4094\u001b[0m \u001b[0;34m\u001b[0m\u001b[0m\n\u001b[1;32m   4095\u001b[0m             \u001b[0;31m# we will try to copy be-definition here\u001b[0m\u001b[0;34m\u001b[0m\u001b[0;34m\u001b[0m\u001b[0m\n\u001b[0;32m-> 4096\u001b[0;31m             \u001b[0msubarr\u001b[0m \u001b[0;34m=\u001b[0m \u001b[0m_try_cast\u001b[0m\u001b[0;34m(\u001b[0m\u001b[0mdata\u001b[0m\u001b[0;34m,\u001b[0m \u001b[0;32mTrue\u001b[0m\u001b[0;34m)\u001b[0m\u001b[0;34m\u001b[0m\u001b[0m\n\u001b[0m\u001b[1;32m   4097\u001b[0m \u001b[0;34m\u001b[0m\u001b[0m\n\u001b[1;32m   4098\u001b[0m     \u001b[0;32melif\u001b[0m \u001b[0misinstance\u001b[0m\u001b[0;34m(\u001b[0m\u001b[0mdata\u001b[0m\u001b[0;34m,\u001b[0m \u001b[0mExtensionArray\u001b[0m\u001b[0;34m)\u001b[0m\u001b[0;34m:\u001b[0m\u001b[0;34m\u001b[0m\u001b[0m\n",
      "\u001b[0;32m~/anaconda3/envs/py36/lib/python3.6/site-packages/pandas/core/series.py\u001b[0m in \u001b[0;36m_try_cast\u001b[0;34m(arr, take_fast_path)\u001b[0m\n\u001b[1;32m   4049\u001b[0m                                            isinstance(subarr, np.ndarray))):\n\u001b[1;32m   4050\u001b[0m                 \u001b[0msubarr\u001b[0m \u001b[0;34m=\u001b[0m \u001b[0mconstruct_1d_object_array_from_listlike\u001b[0m\u001b[0;34m(\u001b[0m\u001b[0msubarr\u001b[0m\u001b[0;34m)\u001b[0m\u001b[0;34m\u001b[0m\u001b[0m\n\u001b[0;32m-> 4051\u001b[0;31m             \u001b[0;32melif\u001b[0m \u001b[0;32mnot\u001b[0m \u001b[0mis_extension_type\u001b[0m\u001b[0;34m(\u001b[0m\u001b[0msubarr\u001b[0m\u001b[0;34m)\u001b[0m\u001b[0;34m:\u001b[0m\u001b[0;34m\u001b[0m\u001b[0m\n\u001b[0m\u001b[1;32m   4052\u001b[0m                 subarr = construct_1d_ndarray_preserving_na(subarr, dtype,\n\u001b[1;32m   4053\u001b[0m                                                             copy=copy)\n",
      "\u001b[0;32m~/anaconda3/envs/py36/lib/python3.6/site-packages/pandas/core/dtypes/common.py\u001b[0m in \u001b[0;36mis_extension_type\u001b[0;34m(arr)\u001b[0m\n\u001b[1;32m   1679\u001b[0m     \u001b[0;32mif\u001b[0m \u001b[0mis_categorical\u001b[0m\u001b[0;34m(\u001b[0m\u001b[0marr\u001b[0m\u001b[0;34m)\u001b[0m\u001b[0;34m:\u001b[0m\u001b[0;34m\u001b[0m\u001b[0m\n\u001b[1;32m   1680\u001b[0m         \u001b[0;32mreturn\u001b[0m \u001b[0;32mTrue\u001b[0m\u001b[0;34m\u001b[0m\u001b[0m\n\u001b[0;32m-> 1681\u001b[0;31m     \u001b[0;32melif\u001b[0m \u001b[0mis_sparse\u001b[0m\u001b[0;34m(\u001b[0m\u001b[0marr\u001b[0m\u001b[0;34m)\u001b[0m\u001b[0;34m:\u001b[0m\u001b[0;34m\u001b[0m\u001b[0m\n\u001b[0m\u001b[1;32m   1682\u001b[0m         \u001b[0;32mreturn\u001b[0m \u001b[0;32mTrue\u001b[0m\u001b[0;34m\u001b[0m\u001b[0m\n\u001b[1;32m   1683\u001b[0m     \u001b[0;32melif\u001b[0m \u001b[0mis_datetimetz\u001b[0m\u001b[0;34m(\u001b[0m\u001b[0marr\u001b[0m\u001b[0;34m)\u001b[0m\u001b[0;34m:\u001b[0m\u001b[0;34m\u001b[0m\u001b[0m\n",
      "\u001b[0;32m~/anaconda3/envs/py36/lib/python3.6/site-packages/pandas/core/dtypes/common.py\u001b[0m in \u001b[0;36mis_sparse\u001b[0;34m(arr)\u001b[0m\n\u001b[1;32m    150\u001b[0m     \"\"\"\n\u001b[1;32m    151\u001b[0m \u001b[0;34m\u001b[0m\u001b[0m\n\u001b[0;32m--> 152\u001b[0;31m     \u001b[0;32mreturn\u001b[0m \u001b[0misinstance\u001b[0m\u001b[0;34m(\u001b[0m\u001b[0marr\u001b[0m\u001b[0;34m,\u001b[0m \u001b[0;34m(\u001b[0m\u001b[0mABCSparseArray\u001b[0m\u001b[0;34m,\u001b[0m \u001b[0mABCSparseSeries\u001b[0m\u001b[0;34m)\u001b[0m\u001b[0;34m)\u001b[0m\u001b[0;34m\u001b[0m\u001b[0m\n\u001b[0m\u001b[1;32m    153\u001b[0m \u001b[0;34m\u001b[0m\u001b[0m\n\u001b[1;32m    154\u001b[0m \u001b[0;34m\u001b[0m\u001b[0m\n",
      "\u001b[0;32m~/anaconda3/envs/py36/lib/python3.6/site-packages/pandas/core/dtypes/generic.py\u001b[0m in \u001b[0;36m_check\u001b[0;34m(cls, inst)\u001b[0m\n\u001b[1;32m      5\u001b[0m \u001b[0;31m# objects\u001b[0m\u001b[0;34m\u001b[0m\u001b[0;34m\u001b[0m\u001b[0m\n\u001b[1;32m      6\u001b[0m \u001b[0;32mdef\u001b[0m \u001b[0mcreate_pandas_abc_type\u001b[0m\u001b[0;34m(\u001b[0m\u001b[0mname\u001b[0m\u001b[0;34m,\u001b[0m \u001b[0mattr\u001b[0m\u001b[0;34m,\u001b[0m \u001b[0mcomp\u001b[0m\u001b[0;34m)\u001b[0m\u001b[0;34m:\u001b[0m\u001b[0;34m\u001b[0m\u001b[0m\n\u001b[0;32m----> 7\u001b[0;31m     \u001b[0;34m@\u001b[0m\u001b[0mclassmethod\u001b[0m\u001b[0;34m\u001b[0m\u001b[0m\n\u001b[0m\u001b[1;32m      8\u001b[0m     \u001b[0;32mdef\u001b[0m \u001b[0m_check\u001b[0m\u001b[0;34m(\u001b[0m\u001b[0mcls\u001b[0m\u001b[0;34m,\u001b[0m \u001b[0minst\u001b[0m\u001b[0;34m)\u001b[0m\u001b[0;34m:\u001b[0m\u001b[0;34m\u001b[0m\u001b[0m\n\u001b[1;32m      9\u001b[0m         \u001b[0;32mreturn\u001b[0m \u001b[0mgetattr\u001b[0m\u001b[0;34m(\u001b[0m\u001b[0minst\u001b[0m\u001b[0;34m,\u001b[0m \u001b[0mattr\u001b[0m\u001b[0;34m,\u001b[0m \u001b[0;34m'_typ'\u001b[0m\u001b[0;34m)\u001b[0m \u001b[0;32min\u001b[0m \u001b[0mcomp\u001b[0m\u001b[0;34m\u001b[0m\u001b[0m\n",
      "\u001b[0;31mKeyboardInterrupt\u001b[0m: "
     ]
    }
   ],
   "source": [
    "%%time\n",
    "\n",
    "dirctory = \".../Kaggle_Taxi/\"\n",
    "print(\"running on ...\", dirctory)\n",
    "for df_chunk in tqdm(pd.read_csv(dirctory + 'nyc_taxi_train.csv', usecols=cols, dtype=traintypes, chunksize=chunksize)):\n",
    "    df_chunk['pickup_datetime'] = df_chunk['pickup_datetime'].str.slice(0, 16)\n",
    "    df_chunk['pickup_datetime'] = pd.to_datetime(df_chunk['pickup_datetime'], utc=True, format='%Y-%m-%d %H:%M')\n",
    "    \n",
    "    # Can process each chunk of dataframe here\n",
    "#     # clean_data(), feature_engineer(),fit()\n",
    "    df_chunk = clean_df(df_chunk)\n",
    "    df_chunk = add_more_features(df_chunk)\n",
    "    print(\"ok..let's print sth out..might be a bad idea? who knows!\")\n",
    "\n",
    "    tmp_train, tmp_eval = train_test_split(df_chunk, test_size = 0.2)\n",
    "#     tmp_train.to_csv(\"chunk_train.csv\", index = False, mode = \"a\")\n",
    "#     tmp_eval.to_csv(\"chunk_eval.csv\", index = False, mode = \"a\")    \n",
    "    tmp_train.to_csv(dirctory + \"chunk_train_v2.csv\", index = False, mode = \"a\", header = False)\n",
    "    tmp_eval.to_csv(dirctory + \"chunk_eval_v2.csv\", index = False, mode = \"a\", header = False)\n",
    "    \n",
    "#     del tmp_train\n",
    "#     del tmp_eval\n",
    "    # Alternatively, append the chunk to list and merge all\n",
    "    df_list.append(df_chunk)\n",
    "\n",
    "# data =  pd.read_csv('nyc_taxi_train.csv',usecols=cols, dtype=traintypes)\n",
    "# data =  pd.read_csv('nyc_taxi_train.csv', nrows = 1000)\n",
    "\n"
   ]
  },
  {
   "cell_type": "code",
   "execution_count": 9,
   "metadata": {},
   "outputs": [],
   "source": [
    "# ? pd.DataFrame.to_csv mode"
   ]
  },
  {
   "cell_type": "code",
   "execution_count": null,
   "metadata": {},
   "outputs": [],
   "source": []
  },
  {
   "cell_type": "code",
   "execution_count": 10,
   "metadata": {},
   "outputs": [
    {
     "name": "stdout",
     "output_type": "stream",
     "text": [
      "<class 'pandas.core.frame.DataFrame'>\n",
      "Int64Index: 1742486 entries, 0 to 1999999\n",
      "Data columns (total 17 columns):\n",
      "key                   object\n",
      "fare_amount           float32\n",
      "pickup_longitude      float32\n",
      "pickup_latitude       float32\n",
      "dropoff_longitude     float32\n",
      "dropoff_latitude      float32\n",
      "passenger_count       uint8\n",
      "abs_diff_longitude    float32\n",
      "abs_diff_latitude     float32\n",
      "distance              float64\n",
      "year                  int64\n",
      "month                 int64\n",
      "day                   int64\n",
      "hour                  int64\n",
      "weekday               int64\n",
      "night                 int64\n",
      "late_night            int64\n",
      "dtypes: float32(7), float64(1), int64(7), object(1), uint8(1)\n",
      "memory usage: 181.1+ MB\n",
      "CPU times: user 165 ms, sys: 69.2 ms, total: 234 ms\n",
      "Wall time: 236 ms\n"
     ]
    }
   ],
   "source": [
    "%%time \n",
    "\n",
    "data = pd.concat(df_list)\n",
    "\n",
    "# Delete the dataframe list to release memory\n",
    "del df_list\n",
    "\n",
    "# See what we have loaded\n",
    "data.info()"
   ]
  },
  {
   "cell_type": "code",
   "execution_count": null,
   "metadata": {},
   "outputs": [],
   "source": []
  },
  {
   "cell_type": "code",
   "execution_count": 11,
   "metadata": {},
   "outputs": [
    {
     "name": "stdout",
     "output_type": "stream",
     "text": [
      "(1393988, 17)\n",
      "<class 'pandas.core.frame.DataFrame'>\n",
      "Int64Index: 1393988 entries, 125677 to 1438048\n",
      "Data columns (total 17 columns):\n",
      "key                   1393988 non-null object\n",
      "fare_amount           1393988 non-null float32\n",
      "pickup_longitude      1393988 non-null float32\n",
      "pickup_latitude       1393988 non-null float32\n",
      "dropoff_longitude     1393988 non-null float32\n",
      "dropoff_latitude      1393988 non-null float32\n",
      "passenger_count       1393988 non-null uint8\n",
      "abs_diff_longitude    1393988 non-null float32\n",
      "abs_diff_latitude     1393988 non-null float32\n",
      "distance              1393988 non-null float64\n",
      "year                  1393988 non-null int64\n",
      "month                 1393988 non-null int64\n",
      "day                   1393988 non-null int64\n",
      "hour                  1393988 non-null int64\n",
      "weekday               1393988 non-null int64\n",
      "night                 1393988 non-null int64\n",
      "late_night            1393988 non-null int64\n",
      "dtypes: float32(7), float64(1), int64(7), object(1), uint8(1)\n",
      "memory usage: 144.9+ MB\n",
      "CPU times: user 1.81 s, sys: 102 ms, total: 1.92 s\n",
      "Wall time: 1.94 s\n"
     ]
    }
   ],
   "source": [
    "%%time\n",
    "\n",
    "train_df, eval_df = train_test_split(data, test_size = 0.2)\n",
    "print(train_df.shape)\n",
    "\n",
    "train_df.info()\n",
    "\n",
    "# train_df.to_csv(\"nyc_taxi_df_train_v2.csv\", index = False)\n",
    "# eval_df.to_csv(\"nyc_taxi_df_eval_v2.csv\", index = False)"
   ]
  },
  {
   "cell_type": "code",
   "execution_count": 12,
   "metadata": {},
   "outputs": [],
   "source": [
    "# ? pd.DataFrame.to_csv"
   ]
  },
  {
   "cell_type": "code",
   "execution_count": null,
   "metadata": {},
   "outputs": [],
   "source": []
  },
  {
   "cell_type": "code",
   "execution_count": 13,
   "metadata": {},
   "outputs": [],
   "source": [
    "# train_df.head()"
   ]
  },
  {
   "cell_type": "code",
   "execution_count": 14,
   "metadata": {},
   "outputs": [],
   "source": [
    "# eval_df.head()"
   ]
  },
  {
   "cell_type": "code",
   "execution_count": 15,
   "metadata": {},
   "outputs": [
    {
     "data": {
      "text/plain": [
       "32512"
      ]
     },
     "execution_count": 15,
     "metadata": {},
     "output_type": "execute_result"
    }
   ],
   "source": [
    "\n",
    "os.system(\"Toby, 'job run finished!'\")"
   ]
  },
  {
   "cell_type": "code",
   "execution_count": null,
   "metadata": {},
   "outputs": [],
   "source": []
  },
  {
   "cell_type": "code",
   "execution_count": 16,
   "metadata": {},
   "outputs": [
    {
     "name": "stdout",
     "output_type": "stream",
     "text": [
      "CPU times: user 1.64 s, sys: 171 ms, total: 1.81 s\n",
      "Wall time: 1.84 s\n"
     ]
    },
    {
     "data": {
      "text/html": [
       "<div>\n",
       "<style scoped>\n",
       "    .dataframe tbody tr th:only-of-type {\n",
       "        vertical-align: middle;\n",
       "    }\n",
       "\n",
       "    .dataframe tbody tr th {\n",
       "        vertical-align: top;\n",
       "    }\n",
       "\n",
       "    .dataframe thead th {\n",
       "        text-align: right;\n",
       "    }\n",
       "</style>\n",
       "<table border=\"1\" class=\"dataframe\">\n",
       "  <thead>\n",
       "    <tr style=\"text-align: right;\">\n",
       "      <th></th>\n",
       "      <th>fare_amount</th>\n",
       "      <th>pickup_longitude</th>\n",
       "      <th>pickup_latitude</th>\n",
       "      <th>dropoff_longitude</th>\n",
       "      <th>dropoff_latitude</th>\n",
       "      <th>passenger_count</th>\n",
       "      <th>abs_diff_longitude</th>\n",
       "      <th>abs_diff_latitude</th>\n",
       "      <th>distance</th>\n",
       "      <th>year</th>\n",
       "      <th>month</th>\n",
       "      <th>day</th>\n",
       "      <th>hour</th>\n",
       "      <th>weekday</th>\n",
       "      <th>night</th>\n",
       "      <th>late_night</th>\n",
       "    </tr>\n",
       "  </thead>\n",
       "  <tbody>\n",
       "    <tr>\n",
       "      <th>count</th>\n",
       "      <td>1.393988e+06</td>\n",
       "      <td>1.393988e+06</td>\n",
       "      <td>1.393988e+06</td>\n",
       "      <td>1.393988e+06</td>\n",
       "      <td>1.393988e+06</td>\n",
       "      <td>1.393988e+06</td>\n",
       "      <td>1.393988e+06</td>\n",
       "      <td>1.393988e+06</td>\n",
       "      <td>1.393988e+06</td>\n",
       "      <td>1.393988e+06</td>\n",
       "      <td>1.393988e+06</td>\n",
       "      <td>1.393988e+06</td>\n",
       "      <td>1.393988e+06</td>\n",
       "      <td>1.393988e+06</td>\n",
       "      <td>1.393988e+06</td>\n",
       "      <td>1.393988e+06</td>\n",
       "    </tr>\n",
       "    <tr>\n",
       "      <th>mean</th>\n",
       "      <td>1.073410e+01</td>\n",
       "      <td>-7.397647e+01</td>\n",
       "      <td>4.075146e+01</td>\n",
       "      <td>-7.397483e+01</td>\n",
       "      <td>4.075176e+01</td>\n",
       "      <td>1.331866e+00</td>\n",
       "      <td>2.095297e-02</td>\n",
       "      <td>2.045492e-02</td>\n",
       "      <td>2.218050e+00</td>\n",
       "      <td>2.011720e+03</td>\n",
       "      <td>6.266836e+00</td>\n",
       "      <td>1.569619e+01</td>\n",
       "      <td>1.351139e+01</td>\n",
       "      <td>3.038997e+00</td>\n",
       "      <td>2.008317e-01</td>\n",
       "      <td>3.702327e-01</td>\n",
       "    </tr>\n",
       "    <tr>\n",
       "      <th>std</th>\n",
       "      <td>7.871475e+00</td>\n",
       "      <td>3.548883e-02</td>\n",
       "      <td>2.939705e-02</td>\n",
       "      <td>3.557425e-02</td>\n",
       "      <td>3.313845e-02</td>\n",
       "      <td>6.789118e-01</td>\n",
       "      <td>2.915793e-02</td>\n",
       "      <td>2.115920e-02</td>\n",
       "      <td>2.322281e+00</td>\n",
       "      <td>1.863525e+00</td>\n",
       "      <td>3.436255e+00</td>\n",
       "      <td>8.684633e+00</td>\n",
       "      <td>6.520965e+00</td>\n",
       "      <td>1.949509e+00</td>\n",
       "      <td>4.006226e-01</td>\n",
       "      <td>4.828671e-01</td>\n",
       "    </tr>\n",
       "    <tr>\n",
       "      <th>min</th>\n",
       "      <td>2.510000e+00</td>\n",
       "      <td>-7.570316e+01</td>\n",
       "      <td>3.897653e+01</td>\n",
       "      <td>-7.572812e+01</td>\n",
       "      <td>3.895553e+01</td>\n",
       "      <td>1.000000e+00</td>\n",
       "      <td>0.000000e+00</td>\n",
       "      <td>0.000000e+00</td>\n",
       "      <td>0.000000e+00</td>\n",
       "      <td>2.009000e+03</td>\n",
       "      <td>1.000000e+00</td>\n",
       "      <td>1.000000e+00</td>\n",
       "      <td>0.000000e+00</td>\n",
       "      <td>0.000000e+00</td>\n",
       "      <td>0.000000e+00</td>\n",
       "      <td>0.000000e+00</td>\n",
       "    </tr>\n",
       "    <tr>\n",
       "      <th>25%</th>\n",
       "      <td>6.000000e+00</td>\n",
       "      <td>-7.399236e+01</td>\n",
       "      <td>4.073687e+01</td>\n",
       "      <td>-7.399158e+01</td>\n",
       "      <td>4.073603e+01</td>\n",
       "      <td>1.000000e+00</td>\n",
       "      <td>6.149292e-03</td>\n",
       "      <td>6.946564e-03</td>\n",
       "      <td>8.869912e-01</td>\n",
       "      <td>2.010000e+03</td>\n",
       "      <td>3.000000e+00</td>\n",
       "      <td>8.000000e+00</td>\n",
       "      <td>9.000000e+00</td>\n",
       "      <td>1.000000e+00</td>\n",
       "      <td>0.000000e+00</td>\n",
       "      <td>0.000000e+00</td>\n",
       "    </tr>\n",
       "    <tr>\n",
       "      <th>50%</th>\n",
       "      <td>8.500000e+00</td>\n",
       "      <td>-7.398218e+01</td>\n",
       "      <td>4.075351e+01</td>\n",
       "      <td>-7.398066e+01</td>\n",
       "      <td>4.075402e+01</td>\n",
       "      <td>1.000000e+00</td>\n",
       "      <td>1.258850e-02</td>\n",
       "      <td>1.404572e-02</td>\n",
       "      <td>1.496936e+00</td>\n",
       "      <td>2.012000e+03</td>\n",
       "      <td>6.000000e+00</td>\n",
       "      <td>1.600000e+01</td>\n",
       "      <td>1.400000e+01</td>\n",
       "      <td>3.000000e+00</td>\n",
       "      <td>0.000000e+00</td>\n",
       "      <td>0.000000e+00</td>\n",
       "    </tr>\n",
       "    <tr>\n",
       "      <th>75%</th>\n",
       "      <td>1.250000e+01</td>\n",
       "      <td>-7.396874e+01</td>\n",
       "      <td>4.076761e+01</td>\n",
       "      <td>-7.396574e+01</td>\n",
       "      <td>4.076845e+01</td>\n",
       "      <td>1.000000e+00</td>\n",
       "      <td>2.339935e-02</td>\n",
       "      <td>2.666092e-02</td>\n",
       "      <td>2.619368e+00</td>\n",
       "      <td>2.013000e+03</td>\n",
       "      <td>9.000000e+00</td>\n",
       "      <td>2.300000e+01</td>\n",
       "      <td>1.900000e+01</td>\n",
       "      <td>5.000000e+00</td>\n",
       "      <td>0.000000e+00</td>\n",
       "      <td>1.000000e+00</td>\n",
       "    </tr>\n",
       "    <tr>\n",
       "      <th>max</th>\n",
       "      <td>4.950000e+02</td>\n",
       "      <td>-7.218873e+01</td>\n",
       "      <td>4.191632e+01</td>\n",
       "      <td>-7.215101e+01</td>\n",
       "      <td>4.192382e+01</td>\n",
       "      <td>4.000000e+00</td>\n",
       "      <td>1.618820e+00</td>\n",
       "      <td>8.809624e-01</td>\n",
       "      <td>1.140469e+02</td>\n",
       "      <td>2.015000e+03</td>\n",
       "      <td>1.200000e+01</td>\n",
       "      <td>3.100000e+01</td>\n",
       "      <td>2.300000e+01</td>\n",
       "      <td>6.000000e+00</td>\n",
       "      <td>1.000000e+00</td>\n",
       "      <td>1.000000e+00</td>\n",
       "    </tr>\n",
       "  </tbody>\n",
       "</table>\n",
       "</div>"
      ],
      "text/plain": [
       "        fare_amount  pickup_longitude  pickup_latitude  dropoff_longitude  \\\n",
       "count  1.393988e+06      1.393988e+06     1.393988e+06       1.393988e+06   \n",
       "mean   1.073410e+01     -7.397647e+01     4.075146e+01      -7.397483e+01   \n",
       "std    7.871475e+00      3.548883e-02     2.939705e-02       3.557425e-02   \n",
       "min    2.510000e+00     -7.570316e+01     3.897653e+01      -7.572812e+01   \n",
       "25%    6.000000e+00     -7.399236e+01     4.073687e+01      -7.399158e+01   \n",
       "50%    8.500000e+00     -7.398218e+01     4.075351e+01      -7.398066e+01   \n",
       "75%    1.250000e+01     -7.396874e+01     4.076761e+01      -7.396574e+01   \n",
       "max    4.950000e+02     -7.218873e+01     4.191632e+01      -7.215101e+01   \n",
       "\n",
       "       dropoff_latitude  passenger_count  abs_diff_longitude  \\\n",
       "count      1.393988e+06     1.393988e+06        1.393988e+06   \n",
       "mean       4.075176e+01     1.331866e+00        2.095297e-02   \n",
       "std        3.313845e-02     6.789118e-01        2.915793e-02   \n",
       "min        3.895553e+01     1.000000e+00        0.000000e+00   \n",
       "25%        4.073603e+01     1.000000e+00        6.149292e-03   \n",
       "50%        4.075402e+01     1.000000e+00        1.258850e-02   \n",
       "75%        4.076845e+01     1.000000e+00        2.339935e-02   \n",
       "max        4.192382e+01     4.000000e+00        1.618820e+00   \n",
       "\n",
       "       abs_diff_latitude      distance          year         month  \\\n",
       "count       1.393988e+06  1.393988e+06  1.393988e+06  1.393988e+06   \n",
       "mean        2.045492e-02  2.218050e+00  2.011720e+03  6.266836e+00   \n",
       "std         2.115920e-02  2.322281e+00  1.863525e+00  3.436255e+00   \n",
       "min         0.000000e+00  0.000000e+00  2.009000e+03  1.000000e+00   \n",
       "25%         6.946564e-03  8.869912e-01  2.010000e+03  3.000000e+00   \n",
       "50%         1.404572e-02  1.496936e+00  2.012000e+03  6.000000e+00   \n",
       "75%         2.666092e-02  2.619368e+00  2.013000e+03  9.000000e+00   \n",
       "max         8.809624e-01  1.140469e+02  2.015000e+03  1.200000e+01   \n",
       "\n",
       "                day          hour       weekday         night    late_night  \n",
       "count  1.393988e+06  1.393988e+06  1.393988e+06  1.393988e+06  1.393988e+06  \n",
       "mean   1.569619e+01  1.351139e+01  3.038997e+00  2.008317e-01  3.702327e-01  \n",
       "std    8.684633e+00  6.520965e+00  1.949509e+00  4.006226e-01  4.828671e-01  \n",
       "min    1.000000e+00  0.000000e+00  0.000000e+00  0.000000e+00  0.000000e+00  \n",
       "25%    8.000000e+00  9.000000e+00  1.000000e+00  0.000000e+00  0.000000e+00  \n",
       "50%    1.600000e+01  1.400000e+01  3.000000e+00  0.000000e+00  0.000000e+00  \n",
       "75%    2.300000e+01  1.900000e+01  5.000000e+00  0.000000e+00  1.000000e+00  \n",
       "max    3.100000e+01  2.300000e+01  6.000000e+00  1.000000e+00  1.000000e+00  "
      ]
     },
     "execution_count": 16,
     "metadata": {},
     "output_type": "execute_result"
    }
   ],
   "source": [
    "%%time\n",
    "train_df.describe()"
   ]
  },
  {
   "cell_type": "code",
   "execution_count": 17,
   "metadata": {},
   "outputs": [],
   "source": [
    "# %%time\n",
    "# tmp = train_df[train_df['fare_amount'].apply(lambda x: type(x)==np.float32)]\n",
    "# tmp"
   ]
  },
  {
   "cell_type": "code",
   "execution_count": 18,
   "metadata": {},
   "outputs": [],
   "source": [
    "# ? pd.DataFrame.to_csv"
   ]
  },
  {
   "cell_type": "code",
   "execution_count": 19,
   "metadata": {},
   "outputs": [],
   "source": [
    "# print(train_df.shape, tmp.shape)"
   ]
  },
  {
   "cell_type": "code",
   "execution_count": 20,
   "metadata": {},
   "outputs": [],
   "source": [
    "# type(tmp.iloc[0].fare_amount)"
   ]
  },
  {
   "cell_type": "code",
   "execution_count": 21,
   "metadata": {},
   "outputs": [],
   "source": [
    "# df = pd.read_csv(\"chunk_eval.csv\")\n"
   ]
  },
  {
   "cell_type": "code",
   "execution_count": 22,
   "metadata": {},
   "outputs": [],
   "source": [
    "# print(df.shape)\n",
    "# df.head()"
   ]
  },
  {
   "cell_type": "code",
   "execution_count": 23,
   "metadata": {},
   "outputs": [],
   "source": [
    "# df.info()"
   ]
  },
  {
   "cell_type": "code",
   "execution_count": 24,
   "metadata": {},
   "outputs": [],
   "source": [
    "# ##omg... i need to preprocess test df over here...sad!\n",
    "# test = pd.read_csv('test.csv')\n",
    "# # test['fare_amount'] = 3\n",
    "# print('setting fake y for preprocessing purpose..',test.shape, \"wait...no I shallnt clean test...\")\n",
    "# # test = clean_df(test)\n",
    "\n",
    "# def add_more_features_test(df):\n",
    "#     \"\"\"here..\"\"\"\n",
    "#     df['abs_diff_longitude'] = (df.dropoff_longitude - df.pickup_longitude).abs()\n",
    "#     df['abs_diff_latitude'] = (df.dropoff_latitude - df.pickup_latitude).abs()\n",
    "#     df['distance'] = ((df.abs_diff_longitude)**2 + \\\n",
    "#                       (df.abs_diff_latitude)**2).apply(lambda x: 69.172*sqrt(x))    \n",
    "#     df['pickup_datetime'] =  pd.to_datetime(df['pickup_datetime'], format='%Y-%m-%d %H:%M:%S %Z')\n",
    "#     df['year'] = df['pickup_datetime'].apply(lambda x: x.year)\n",
    "#     df['month'] = df['pickup_datetime'].apply(lambda x: x.month)\n",
    "#     df['day'] = df['pickup_datetime'].apply(lambda x: x.day)\n",
    "#     df['hour'] = df['pickup_datetime'].apply(lambda x: x.hour)\n",
    "#     df['weekday'] = df['pickup_datetime'].apply(lambda x: x.weekday())\n",
    "#     df['night'] = df.apply (lambda x: night(x), axis=1)\n",
    "#     df['late_night'] = df.apply (lambda x: late_night(x), axis=1)    \n",
    "#     df = df.drop(\"pickup_datetime\",1)\n",
    "#     return df\n",
    "\n",
    "# print('shape of test after cleaning...',test.shape)\n",
    "# test = add_more_features_test(test)\n",
    "# print('shape of test after featuring...',test.shape)\n",
    "\n",
    "# test.to_csv(\"featured_test.csv\", index = False, mode = \"w\")"
   ]
  },
  {
   "cell_type": "code",
   "execution_count": 25,
   "metadata": {},
   "outputs": [],
   "source": [
    "# print(test.shape)\n",
    "# test"
   ]
  },
  {
   "cell_type": "code",
   "execution_count": null,
   "metadata": {},
   "outputs": [],
   "source": []
  },
  {
   "cell_type": "code",
   "execution_count": null,
   "metadata": {},
   "outputs": [],
   "source": []
  }
 ],
 "metadata": {
  "kernelspec": {
   "display_name": "Python 3",
   "language": "python",
   "name": "python3"
  },
  "language_info": {
   "codemirror_mode": {
    "name": "ipython",
    "version": 3
   },
   "file_extension": ".py",
   "mimetype": "text/x-python",
   "name": "python",
   "nbconvert_exporter": "python",
   "pygments_lexer": "ipython3",
   "version": "3.6.6"
  }
 },
 "nbformat": 4,
 "nbformat_minor": 2
}
